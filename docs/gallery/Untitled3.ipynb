{
 "cells": [
  {
   "cell_type": "code",
   "execution_count": 33,
   "id": "54a610f1",
   "metadata": {},
   "outputs": [],
   "source": [
    "from pynwb import NWBHDF5IO\n",
    "from hdmf_zarr.nwb import NWBZarrIO\n",
    "\n",
    "with NWBHDF5IO('/Users/mavaylon/Research/NWB/hdmf-zarr/docs/gallery/resources/sub_anm00239123_ses_20170627T093549_ecephys_and_ogen.nwb', 'r', load_namespaces=False) as read_io:\n",
    "    file = read_io.read()"
   ]
  },
  {
   "cell_type": "code",
   "execution_count": 34,
   "id": "5b2c214a",
   "metadata": {},
   "outputs": [
    {
     "data": {
      "text/html": [
       "\n",
       "        <style>\n",
       "            .container-fields {\n",
       "                font-family: \"Open Sans\", Arial, sans-serif;\n",
       "            }\n",
       "            .container-fields .field-value {\n",
       "                color: #00788E;\n",
       "            }\n",
       "            .container-fields details > summary {\n",
       "                cursor: pointer;\n",
       "                display: list-item;\n",
       "            }\n",
       "            .container-fields details > summary:hover {\n",
       "                color: #0A6EAA;\n",
       "            }\n",
       "        </style>\n",
       "        \n",
       "        <script>\n",
       "            function copyToClipboard(text) {\n",
       "                navigator.clipboard.writeText(text).then(function() {\n",
       "                    console.log('Copied to clipboard: ' + text);\n",
       "                }, function(err) {\n",
       "                    console.error('Could not copy text: ', err);\n",
       "                });\n",
       "            }\n",
       "\n",
       "            document.addEventListener('DOMContentLoaded', function() {\n",
       "                let fieldKeys = document.querySelectorAll('.container-fields .field-key');\n",
       "                fieldKeys.forEach(function(fieldKey) {\n",
       "                    fieldKey.addEventListener('click', function() {\n",
       "                        let accessCode = fieldKey.getAttribute('title').replace('Access code: ', '');\n",
       "                        copyToClipboard(accessCode);\n",
       "                    });\n",
       "                });\n",
       "            });\n",
       "        </script>\n",
       "        <div class='container-wrap'><div class='container-header'><div class='xr-obj-type'><h3>root (NWBFile)</h3></div></div><div style=\"margin-left: 0px;\" class=\"container-fields\"><span class=\"field-key\" title=\".fields['session_description']\">session_description:</span> <span class=\"field-value\">Extracellular ephys recording of mouse doing discrimination task(lick left/right), with optogenetic stimulation plus pole and auditory stimulus</span></div><div style=\"margin-left: 0px;\" class=\"container-fields\"><span class=\"field-key\" title=\".fields['identifier']\">identifier:</span> <span class=\"field-value\">anm00239123_2017-06-27_09-35-49</span></div><div style=\"margin-left: 0px;\" class=\"container-fields\"><span class=\"field-key\" title=\".fields['session_start_time']\">session_start_time:</span> <span class=\"field-value\">2017-06-27 09:35:49-05:00</span></div><div style=\"margin-left: 0px;\" class=\"container-fields\"><span class=\"field-key\" title=\".fields['timestamps_reference_time']\">timestamps_reference_time:</span> <span class=\"field-value\">2017-06-27 09:35:49-05:00</span></div><details><summary style=\"display: list-item; margin-left: 0px;\" class=\"container-fields field-key\" title=\".fields['file_create_date']\"><b>file_create_date</b></summary><div style=\"margin-left: 20px;\" class=\"container-fields\"><span class=\"field-value\" title=\".fields['file_create_date'][0]\">2019-10-07 15:10:30.595741-05:00</span></div></details><div style=\"margin-left: 0px;\" class=\"container-fields\"><span class=\"field-key\" title=\".fields['experimenter']\">experimenter:</span> <span class=\"field-value\">('Zengcai Guo',)</span></div><div style=\"margin-left: 0px;\" class=\"container-fields\"><span class=\"field-key\" title=\".fields['related_publications']\">related_publications:</span> <span class=\"field-value\">('doi:10.1038/nature22324',)</span></div><details><summary style=\"display: list-item; margin-left: 0px;\" class=\"container-fields field-key\" title=\".fields['keywords']\"><b>keywords</b></summary></details><div style=\"margin-left: 0px;\" class=\"container-fields\"><span class=\"field-key\" title=\".fields['epoch_tags']\">epoch_tags:</span> <span class=\"field-value\">set()</span></div><details><summary style=\"display: list-item; margin-left: 0px;\" class=\"container-fields field-key\" title=\".fields['electrodes']\"><b>electrodes</b></summary><div style=\"margin-left: 20px;\" class=\"container-fields\"><span class=\"field-key\" title=\".fields['electrodes'].fields['description']\">description:</span> <span class=\"field-value\">metadata about extracellular electrodes</span></div><details><summary style=\"display: list-item; margin-left: 20px;\" class=\"container-fields field-key\" title=\".fields['electrodes'].fields['id']\"><b>id</b></summary></details><div style=\"margin-left: 20px;\" class=\"container-fields\"><span class=\"field-key\" title=\".fields['electrodes'].fields['colnames']\">colnames:</span> <span class=\"field-value\">('x', 'y', 'z', 'imp', 'location', 'filtering', 'group', 'group_name')</span></div><div style=\"margin-left: 20px;\" class=\"container-fields\"><span class=\"field-key\" title=\".fields['electrodes'].fields['columns']\">columns:</span> <span class=\"field-value\">(<hdmf.common.table.VectorData object at 0x1220c5870>, <hdmf.common.table.VectorData object at 0x1220c58d0>, <hdmf.common.table.VectorData object at 0x1220c5930>, <hdmf.common.table.VectorData object at 0x1220c57b0>, <hdmf.common.table.VectorData object at 0x1220c5810>, <hdmf.common.table.VectorData object at 0x1220c5630>, <hdmf.common.table.VectorData object at 0x1220c5750>, <hdmf.common.table.VectorData object at 0x1220c5660>)</span></div></details><details><summary style=\"display: list-item; margin-left: 0px;\" class=\"container-fields field-key\" title=\".fields['electrode_groups']\"><b>electrode_groups (1)</b></summary><details><summary style=\"display: list-item; margin-left: 20px;\" class=\"container-fields field-key\" title=\".fields['electrode_groups']['ADunit_32']\"><b>ADunit_32</b></summary><div style=\"margin-left: 40px;\" class=\"container-fields\"><span class=\"field-key\" title=\".fields['electrode_groups']['ADunit_32'].fields['description']\">description:</span> <span class=\"field-value\">N/A</span></div><div style=\"margin-left: 40px;\" class=\"container-fields\"><span class=\"field-key\" title=\".fields['electrode_groups']['ADunit_32'].fields['location']\">location:</span> <span class=\"field-value\">brain_region: Thalamus; brain_subregion: N/A; cortical_layer: N/A; hemisphere: left; coordinate_ref: bregma; coordinate_ap: 2.50; coordinate_ml: -1.50; coordinate_dv: 0.00</span></div><details><summary style=\"display: list-item; margin-left: 40px;\" class=\"container-fields field-key\" title=\".fields['electrode_groups']['ADunit_32'].fields['device']\"><b>device</b></summary></details></details></details><details><summary style=\"display: list-item; margin-left: 0px;\" class=\"container-fields field-key\" title=\".fields['devices']\"><b>devices (2)</b></summary><details><summary style=\"display: list-item; margin-left: 20px;\" class=\"container-fields field-key\" title=\".fields['devices']['ADunit']\"><b>ADunit</b></summary></details><details><summary style=\"display: list-item; margin-left: 20px;\" class=\"container-fields field-key\" title=\".fields['devices']['laser']\"><b>laser</b></summary></details></details><details><summary style=\"display: list-item; margin-left: 0px;\" class=\"container-fields field-key\" title=\".fields['ogen_sites']\"><b>ogen_sites (1)</b></summary><details><summary style=\"display: list-item; margin-left: 20px;\" class=\"container-fields field-key\" title=\".fields['ogen_sites']['left-ALM']\"><b>left-ALM</b></summary><details><summary style=\"display: list-item; margin-left: 40px;\" class=\"container-fields field-key\" title=\".fields['ogen_sites']['left-ALM'].fields['device']\"><b>device</b></summary></details><div style=\"margin-left: 40px;\" class=\"container-fields\"><span class=\"field-key\" title=\".fields['ogen_sites']['left-ALM'].fields['description']\">description:</span> <span class=\"field-value\">site_2 -  </span></div><div style=\"margin-left: 40px;\" class=\"container-fields\"><span class=\"field-key\" title=\".fields['ogen_sites']['left-ALM'].fields['excitation_lambda']\">excitation_lambda:</span> <span class=\"field-value\">473.0</span></div><div style=\"margin-left: 40px;\" class=\"container-fields\"><span class=\"field-key\" title=\".fields['ogen_sites']['left-ALM'].fields['location']\">location:</span> <span class=\"field-value\">brain_region: ALM; brain_subregion: N/A; cortical_layer: N/A; hemisphere: left; coordinate_ref: bregma; coordinate_ap: 2.50; coordinate_ml: -1.50; coordinate_dv: 0.00</span></div></details></details><details><summary style=\"display: list-item; margin-left: 0px;\" class=\"container-fields field-key\" title=\".fields['intervals']\"><b>intervals (1)</b></summary><details><summary style=\"display: list-item; margin-left: 20px;\" class=\"container-fields field-key\" title=\".fields['intervals']['trials']\"><b>trials</b></summary><div style=\"margin-left: 40px;\" class=\"container-fields\"><span class=\"field-key\" title=\".fields['intervals']['trials'].fields['description']\">description:</span> <span class=\"field-value\">experimental trials</span></div><details><summary style=\"display: list-item; margin-left: 40px;\" class=\"container-fields field-key\" title=\".fields['intervals']['trials'].fields['id']\"><b>id</b></summary></details><div style=\"margin-left: 40px;\" class=\"container-fields\"><span class=\"field-key\" title=\".fields['intervals']['trials'].fields['colnames']\">colnames:</span> <span class=\"field-value\">('start_time', 'stop_time', 'type', 'response', 'stim_present', 'is_good', 'photo_stim_type', 'photo_stim_period', 'photo_stim_power', 'photo_loc_galvo_x', 'photo_loc_galvo_y', 'photo_loc_galvo_z', 'cue_end_time', 'cue_start_time', 'pole_in_time', 'pole_out_time')</span></div><div style=\"margin-left: 40px;\" class=\"container-fields\"><span class=\"field-key\" title=\".fields['intervals']['trials'].fields['columns']\">columns:</span> <span class=\"field-value\">(<hdmf.common.table.VectorData object at 0x1220c56c0>, <hdmf.common.table.VectorData object at 0x1220c5840>, <hdmf.common.table.VectorData object at 0x1220c5ed0>, <hdmf.common.table.VectorData object at 0x1220c5e10>, <hdmf.common.table.VectorData object at 0x1220c5e70>, <hdmf.common.table.VectorData object at 0x1220c5ab0>, <hdmf.common.table.VectorData object at 0x1220c5cf0>, <hdmf.common.table.VectorData object at 0x1220c5c30>, <hdmf.common.table.VectorData object at 0x1220c5c90>, <hdmf.common.table.VectorData object at 0x1220c5b10>, <hdmf.common.table.VectorData object at 0x1220c5b70>, <hdmf.common.table.VectorData object at 0x1220c5bd0>, <hdmf.common.table.VectorData object at 0x1220c59f0>, <hdmf.common.table.VectorData object at 0x1220c5a50>, <hdmf.common.table.VectorData object at 0x1220c5d50>, <hdmf.common.table.VectorData object at 0x1220c5db0>)</span></div></details></details><details><summary style=\"display: list-item; margin-left: 0px;\" class=\"container-fields field-key\" title=\".fields['subject']\"><b>subject</b></summary><div style=\"margin-left: 20px;\" class=\"container-fields\"><span class=\"field-key\" title=\".fields['subject'].fields['genotype']\">genotype:</span> <span class=\"field-value\">Ai32 x PV-Cre</span></div><div style=\"margin-left: 20px;\" class=\"container-fields\"><span class=\"field-key\" title=\".fields['subject'].fields['sex']\">sex:</span> <span class=\"field-value\">M</span></div><div style=\"margin-left: 20px;\" class=\"container-fields\"><span class=\"field-key\" title=\".fields['subject'].fields['species']\">species:</span> <span class=\"field-value\">Mus musculus</span></div><div style=\"margin-left: 20px;\" class=\"container-fields\"><span class=\"field-key\" title=\".fields['subject'].fields['subject_id']\">subject_id:</span> <span class=\"field-value\">anm00239123</span></div></details><details><summary style=\"display: list-item; margin-left: 0px;\" class=\"container-fields field-key\" title=\".fields['trials']\"><b>trials</b></summary><div style=\"margin-left: 20px;\" class=\"container-fields\"><span class=\"field-key\" title=\".fields['trials'].fields['description']\">description:</span> <span class=\"field-value\">experimental trials</span></div><details><summary style=\"display: list-item; margin-left: 20px;\" class=\"container-fields field-key\" title=\".fields['trials'].fields['id']\"><b>id</b></summary></details><div style=\"margin-left: 20px;\" class=\"container-fields\"><span class=\"field-key\" title=\".fields['trials'].fields['colnames']\">colnames:</span> <span class=\"field-value\">('start_time', 'stop_time', 'type', 'response', 'stim_present', 'is_good', 'photo_stim_type', 'photo_stim_period', 'photo_stim_power', 'photo_loc_galvo_x', 'photo_loc_galvo_y', 'photo_loc_galvo_z', 'cue_end_time', 'cue_start_time', 'pole_in_time', 'pole_out_time')</span></div><div style=\"margin-left: 20px;\" class=\"container-fields\"><span class=\"field-key\" title=\".fields['trials'].fields['columns']\">columns:</span> <span class=\"field-value\">(<hdmf.common.table.VectorData object at 0x1220c56c0>, <hdmf.common.table.VectorData object at 0x1220c5840>, <hdmf.common.table.VectorData object at 0x1220c5ed0>, <hdmf.common.table.VectorData object at 0x1220c5e10>, <hdmf.common.table.VectorData object at 0x1220c5e70>, <hdmf.common.table.VectorData object at 0x1220c5ab0>, <hdmf.common.table.VectorData object at 0x1220c5cf0>, <hdmf.common.table.VectorData object at 0x1220c5c30>, <hdmf.common.table.VectorData object at 0x1220c5c90>, <hdmf.common.table.VectorData object at 0x1220c5b10>, <hdmf.common.table.VectorData object at 0x1220c5b70>, <hdmf.common.table.VectorData object at 0x1220c5bd0>, <hdmf.common.table.VectorData object at 0x1220c59f0>, <hdmf.common.table.VectorData object at 0x1220c5a50>, <hdmf.common.table.VectorData object at 0x1220c5d50>, <hdmf.common.table.VectorData object at 0x1220c5db0>)</span></div></details><details><summary style=\"display: list-item; margin-left: 0px;\" class=\"container-fields field-key\" title=\".fields['units']\"><b>units</b></summary><div style=\"margin-left: 20px;\" class=\"container-fields\"><span class=\"field-key\" title=\".fields['units'].fields['description']\">description:</span> <span class=\"field-value\">Autogenerated by NWBFile</span></div><details><summary style=\"display: list-item; margin-left: 20px;\" class=\"container-fields field-key\" title=\".fields['units'].fields['id']\"><b>id</b></summary></details><div style=\"margin-left: 20px;\" class=\"container-fields\"><span class=\"field-key\" title=\".fields['units'].fields['colnames']\">colnames:</span> <span class=\"field-value\">('sampling_rate', 'unit_x', 'unit_y', 'unit_z', 'cell_type', 'spike_times', 'electrodes', 'waveform_mean', 'waveform_sd')</span></div><div style=\"margin-left: 20px;\" class=\"container-fields\"><span class=\"field-key\" title=\".fields['units'].fields['columns']\">columns:</span> <span class=\"field-value\">(<hdmf.common.table.VectorData object at 0x1220c5fc0>, <hdmf.common.table.VectorData object at 0x1220c6020>, <hdmf.common.table.VectorData object at 0x1220c6080>, <hdmf.common.table.VectorData object at 0x1220c60e0>, <hdmf.common.table.VectorData object at 0x1220c5a20>, <hdmf.common.table.VectorIndex object at 0x1220c5cc0>, <hdmf.common.table.VectorData object at 0x1220c5ae0>, <hdmf.common.table.VectorIndex object at 0x1220c5b40>, electrodes hdmf.common.table.DynamicTableRegion at 0x4866201760\n",
       "    Target table: electrodes hdmf.common.table.DynamicTable at 0x4866200800\n",
       ", <hdmf.common.table.VectorData object at 0x1220c5c60>, <hdmf.common.table.VectorData object at 0x1220c5d80>)</span></div><div style=\"margin-left: 20px;\" class=\"container-fields\"><span class=\"field-key\" title=\".fields['units'].fields['waveform_unit']\">waveform_unit:</span> <span class=\"field-value\">volts</span></div></details><div style=\"margin-left: 0px;\" class=\"container-fields\"><span class=\"field-key\" title=\".fields['experiment_description']\">experiment_description:</span> <span class=\"field-value\">N/A</span></div><div style=\"margin-left: 0px;\" class=\"container-fields\"><span class=\"field-key\" title=\".fields['institution']\">institution:</span> <span class=\"field-value\">Janelia Research Campus</span></div></div>"
      ],
      "text/plain": [
       "root pynwb.file.NWBFile at 0x4866203296\n",
       "Fields:\n",
       "  devices: {\n",
       "    ADunit <class 'pynwb.device.Device'>,\n",
       "    laser <class 'pynwb.device.Device'>\n",
       "  }\n",
       "  electrode_groups: {\n",
       "    ADunit_32 <class 'pynwb.ecephys.ElectrodeGroup'>\n",
       "  }\n",
       "  electrodes: electrodes <class 'hdmf.common.table.DynamicTable'>\n",
       "  experiment_description: N/A\n",
       "  experimenter: ['Zengcai Guo']\n",
       "  file_create_date: [datetime.datetime(2019, 10, 7, 15, 10, 30, 595741, tzinfo=tzoffset(None, -18000))]\n",
       "  identifier: anm00239123_2017-06-27_09-35-49\n",
       "  institution: Janelia Research Campus\n",
       "  intervals: {\n",
       "    trials <class 'pynwb.epoch.TimeIntervals'>\n",
       "  }\n",
       "  ogen_sites: {\n",
       "    left-ALM <class 'pynwb.ogen.OptogeneticStimulusSite'>\n",
       "  }\n",
       "  related_publications: ['doi:10.1038/nature22324']\n",
       "  session_description: Extracellular ephys recording of mouse doing discrimination task(lick left/right), with optogenetic stimulation plus pole and auditory stimulus\n",
       "  session_start_time: 2017-06-27 09:35:49-05:00\n",
       "  subject: subject pynwb.file.Subject at 0x4866200656\n",
       "Fields:\n",
       "  genotype: Ai32 x PV-Cre\n",
       "  sex: M\n",
       "  species: Mus musculus\n",
       "  subject_id: anm00239123\n",
       "\n",
       "  timestamps_reference_time: 2017-06-27 09:35:49-05:00\n",
       "  trials: trials <class 'pynwb.epoch.TimeIntervals'>\n",
       "  units: units <class 'pynwb.misc.Units'>"
      ]
     },
     "execution_count": 34,
     "metadata": {},
     "output_type": "execute_result"
    }
   ],
   "source": [
    "file"
   ]
  },
  {
   "cell_type": "code",
   "execution_count": 32,
   "id": "3862ccd3",
   "metadata": {},
   "outputs": [
    {
     "data": {
      "text/html": [
       "\n",
       "        <style>\n",
       "            .container-fields {\n",
       "                font-family: \"Open Sans\", Arial, sans-serif;\n",
       "            }\n",
       "            .container-fields .field-value {\n",
       "                color: #00788E;\n",
       "            }\n",
       "            .container-fields details > summary {\n",
       "                cursor: pointer;\n",
       "                display: list-item;\n",
       "            }\n",
       "            .container-fields details > summary:hover {\n",
       "                color: #0A6EAA;\n",
       "            }\n",
       "        </style>\n",
       "        \n",
       "        <script>\n",
       "            function copyToClipboard(text) {\n",
       "                navigator.clipboard.writeText(text).then(function() {\n",
       "                    console.log('Copied to clipboard: ' + text);\n",
       "                }, function(err) {\n",
       "                    console.error('Could not copy text: ', err);\n",
       "                });\n",
       "            }\n",
       "\n",
       "            document.addEventListener('DOMContentLoaded', function() {\n",
       "                let fieldKeys = document.querySelectorAll('.container-fields .field-key');\n",
       "                fieldKeys.forEach(function(fieldKey) {\n",
       "                    fieldKey.addEventListener('click', function() {\n",
       "                        let accessCode = fieldKey.getAttribute('title').replace('Access code: ', '');\n",
       "                        copyToClipboard(accessCode);\n",
       "                    });\n",
       "                });\n",
       "            });\n",
       "        </script>\n",
       "        <div class='container-wrap'><div class='container-header'><div class='xr-obj-type'><h3>electrodes (DynamicTable)</h3></div></div><div style=\"margin-left: 0px;\" class=\"container-fields\"><span class=\"field-key\" title=\".fields['description']\">description:</span> <span class=\"field-value\">metadata about extracellular electrodes</span></div><details><summary style=\"display: list-item; margin-left: 0px;\" class=\"container-fields field-key\" title=\".fields['id']\"><b>id</b></summary></details><div style=\"margin-left: 0px;\" class=\"container-fields\"><span class=\"field-key\" title=\".fields['colnames']\">colnames:</span> <span class=\"field-value\">('x', 'y', 'z', 'imp', 'location', 'filtering', 'group', 'group_name')</span></div><div style=\"margin-left: 0px;\" class=\"container-fields\"><span class=\"field-key\" title=\".fields['columns']\">columns:</span> <span class=\"field-value\">(<hdmf.common.table.VectorData object at 0x120bb4d30>, <hdmf.common.table.VectorData object at 0x120bb4d90>, <hdmf.common.table.VectorData object at 0x120bb47c0>, <hdmf.common.table.VectorData object at 0x120bb4bb0>, <hdmf.common.table.VectorData object at 0x120bb4cd0>, <hdmf.common.table.VectorData object at 0x120bb49a0>, <hdmf.common.table.VectorData object at 0x120bb4b50>, <hdmf.common.table.VectorData object at 0x120bb4a00>)</span></div></div>"
      ],
      "text/plain": [
       "electrodes hdmf.common.table.DynamicTable at 0x4452016064\n",
       "Fields:\n",
       "  colnames: ['x' 'y' 'z' 'imp' 'location' 'filtering' 'group' 'group_name']\n",
       "  columns: (\n",
       "    x <class 'hdmf.common.table.VectorData'>,\n",
       "    y <class 'hdmf.common.table.VectorData'>,\n",
       "    z <class 'hdmf.common.table.VectorData'>,\n",
       "    imp <class 'hdmf.common.table.VectorData'>,\n",
       "    location <class 'hdmf.common.table.VectorData'>,\n",
       "    filtering <class 'hdmf.common.table.VectorData'>,\n",
       "    group <class 'hdmf.common.table.VectorData'>,\n",
       "    group_name <class 'hdmf.common.table.VectorData'>\n",
       "  )\n",
       "  description: metadata about extracellular electrodes"
      ]
     },
     "execution_count": 32,
     "metadata": {},
     "output_type": "execute_result"
    }
   ],
   "source": [
    "file.electrodes\n"
   ]
  },
  {
   "cell_type": "code",
   "execution_count": 28,
   "id": "6033d2e1",
   "metadata": {},
   "outputs": [
    {
     "data": {
      "text/plain": [
       "{}"
      ]
     },
     "execution_count": 28,
     "metadata": {},
     "output_type": "execute_result"
    }
   ],
   "source": [
    "file.acquisition"
   ]
  },
  {
   "cell_type": "code",
   "execution_count": 31,
   "id": "e6ede00b",
   "metadata": {},
   "outputs": [
    {
     "ename": "ValueError",
     "evalue": "Invalid dataset identifier (invalid dataset identifier)",
     "output_type": "error",
     "traceback": [
      "\u001b[0;31m---------------------------------------------------------------------------\u001b[0m",
      "\u001b[0;31mValueError\u001b[0m                                Traceback (most recent call last)",
      "Cell \u001b[0;32mIn[31], line 1\u001b[0m\n\u001b[0;32m----> 1\u001b[0m \u001b[43mfile\u001b[49m\u001b[38;5;241;43m.\u001b[39;49m\u001b[43melectrodes\u001b[49m\u001b[38;5;241;43m.\u001b[39;49m\u001b[43mgroup\u001b[49m\u001b[38;5;241;43m.\u001b[39;49m\u001b[43mdata\u001b[49m\u001b[43m[\u001b[49m\u001b[38;5;241;43m0\u001b[39;49m\u001b[43m]\u001b[49m\n",
      "File \u001b[0;32m~/Research/NWB/hdmf2/hdmf/src/hdmf/backends/hdf5/h5_utils.py:259\u001b[0m, in \u001b[0;36mAbstractH5ReferenceDataset.__getitem__\u001b[0;34m(self, arg)\u001b[0m\n\u001b[1;32m    258\u001b[0m \u001b[38;5;28;01mdef\u001b[39;00m \u001b[38;5;21m__getitem__\u001b[39m(\u001b[38;5;28mself\u001b[39m, arg):\n\u001b[0;32m--> 259\u001b[0m     ref \u001b[38;5;241m=\u001b[39m \u001b[38;5;28;43msuper\u001b[39;49m\u001b[43m(\u001b[49m\u001b[43m)\u001b[49m\u001b[38;5;241;43m.\u001b[39;49m\u001b[38;5;21;43m__getitem__\u001b[39;49m\u001b[43m(\u001b[49m\u001b[43marg\u001b[49m\u001b[43m)\u001b[49m\n\u001b[1;32m    260\u001b[0m     \u001b[38;5;28;01mif\u001b[39;00m \u001b[38;5;28misinstance\u001b[39m(ref, np\u001b[38;5;241m.\u001b[39mndarray):\n\u001b[1;32m    261\u001b[0m         \u001b[38;5;28;01mreturn\u001b[39;00m [\u001b[38;5;28mself\u001b[39m\u001b[38;5;241m.\u001b[39m_get_ref(x) \u001b[38;5;28;01mfor\u001b[39;00m x \u001b[38;5;129;01min\u001b[39;00m ref]\n",
      "File \u001b[0;32m~/Research/NWB/hdmf2/hdmf/src/hdmf/query.py:139\u001b[0m, in \u001b[0;36mHDMFDataset.__getitem__\u001b[0;34m(self, key)\u001b[0m\n\u001b[1;32m    137\u001b[0m \u001b[38;5;28;01mdef\u001b[39;00m \u001b[38;5;21m__getitem__\u001b[39m(\u001b[38;5;28mself\u001b[39m, key):\n\u001b[1;32m    138\u001b[0m     idx \u001b[38;5;241m=\u001b[39m \u001b[38;5;28mself\u001b[39m\u001b[38;5;241m.\u001b[39m__evaluate_key(key)\n\u001b[0;32m--> 139\u001b[0m     \u001b[38;5;28;01mreturn\u001b[39;00m \u001b[38;5;28;43mself\u001b[39;49m\u001b[38;5;241;43m.\u001b[39;49m\u001b[43mdataset\u001b[49m\u001b[43m[\u001b[49m\u001b[43midx\u001b[49m\u001b[43m]\u001b[49m\n",
      "File \u001b[0;32mh5py/_objects.pyx:54\u001b[0m, in \u001b[0;36mh5py._objects.with_phil.wrapper\u001b[0;34m()\u001b[0m\n",
      "File \u001b[0;32mh5py/_objects.pyx:55\u001b[0m, in \u001b[0;36mh5py._objects.with_phil.wrapper\u001b[0;34m()\u001b[0m\n",
      "File \u001b[0;32m~/opt/anaconda3/envs/NWB2/lib/python3.10/site-packages/h5py/_hl/dataset.py:851\u001b[0m, in \u001b[0;36mDataset.__getitem__\u001b[0;34m(self, args, new_dtype)\u001b[0m\n\u001b[1;32m    849\u001b[0m mspace \u001b[38;5;241m=\u001b[39m h5s\u001b[38;5;241m.\u001b[39mcreate_simple(selection\u001b[38;5;241m.\u001b[39mmshape)\n\u001b[1;32m    850\u001b[0m fspace \u001b[38;5;241m=\u001b[39m selection\u001b[38;5;241m.\u001b[39mid\n\u001b[0;32m--> 851\u001b[0m \u001b[38;5;28;43mself\u001b[39;49m\u001b[38;5;241;43m.\u001b[39;49m\u001b[43mid\u001b[49m\u001b[38;5;241;43m.\u001b[39;49m\u001b[43mread\u001b[49m\u001b[43m(\u001b[49m\u001b[43mmspace\u001b[49m\u001b[43m,\u001b[49m\u001b[43m \u001b[49m\u001b[43mfspace\u001b[49m\u001b[43m,\u001b[49m\u001b[43m \u001b[49m\u001b[43marr\u001b[49m\u001b[43m,\u001b[49m\u001b[43m \u001b[49m\u001b[43mmtype\u001b[49m\u001b[43m,\u001b[49m\u001b[43m \u001b[49m\u001b[43mdxpl\u001b[49m\u001b[38;5;241;43m=\u001b[39;49m\u001b[38;5;28;43mself\u001b[39;49m\u001b[38;5;241;43m.\u001b[39;49m\u001b[43m_dxpl\u001b[49m\u001b[43m)\u001b[49m\n\u001b[1;32m    853\u001b[0m \u001b[38;5;66;03m# Patch up the output for NumPy\u001b[39;00m\n\u001b[1;32m    854\u001b[0m \u001b[38;5;28;01mif\u001b[39;00m arr\u001b[38;5;241m.\u001b[39mshape \u001b[38;5;241m==\u001b[39m ():\n",
      "File \u001b[0;32mh5py/_objects.pyx:54\u001b[0m, in \u001b[0;36mh5py._objects.with_phil.wrapper\u001b[0;34m()\u001b[0m\n",
      "File \u001b[0;32mh5py/_objects.pyx:55\u001b[0m, in \u001b[0;36mh5py._objects.with_phil.wrapper\u001b[0;34m()\u001b[0m\n",
      "File \u001b[0;32mh5py/h5d.pyx:240\u001b[0m, in \u001b[0;36mh5py.h5d.DatasetID.read\u001b[0;34m()\u001b[0m\n",
      "File \u001b[0;32mh5py/_proxy.pyx:108\u001b[0m, in \u001b[0;36mh5py._proxy.dset_rw\u001b[0;34m()\u001b[0m\n",
      "\u001b[0;31mValueError\u001b[0m: Invalid dataset identifier (invalid dataset identifier)"
     ]
    }
   ],
   "source": [
    "file.electrodes.group.data[0]"
   ]
  },
  {
   "cell_type": "code",
   "execution_count": 8,
   "id": "0b78157b",
   "metadata": {},
   "outputs": [],
   "source": [
    "from datetime import datetime\n",
    "from uuid import uuid4\n",
    "\n",
    "import numpy as np\n",
    "from dateutil.tz import tzlocal\n",
    "\n",
    "from pynwb import NWBHDF5IO, NWBFile\n",
    "from pynwb.ecephys import LFP, ElectricalSeries\n",
    "\n",
    "nwbfile = NWBFile(\n",
    "    session_description=\"my first synthetic recording\",\n",
    "    identifier=str(uuid4()),\n",
    "    session_start_time=datetime.now(tzlocal()),\n",
    "    experimenter=[\n",
    "        \"Baggins, Bilbo\",\n",
    "    ],\n",
    "    lab=\"Bag End Laboratory\",\n",
    "    institution=\"University of Middle Earth at the Shire\",\n",
    "    experiment_description=\"I went on an adventure to reclaim vast treasures.\",\n",
    "    session_id=\"LONELYMTN001\",\n",
    ")\n",
    "\n",
    "device = nwbfile.create_device(\n",
    "    name=\"array\", description=\"the best array\", manufacturer=\"Probe Company 9000\"\n",
    ")\n",
    "\n",
    "nwbfile.add_electrode_column(name=\"label\", description=\"label of electrode\")\n",
    "\n",
    "nshanks = 4\n",
    "nchannels_per_shank = 3\n",
    "electrode_counter = 0\n",
    "\n",
    "for ishank in range(nshanks):\n",
    "    # create an electrode group for this shank\n",
    "    electrode_group = nwbfile.create_electrode_group(\n",
    "        name=\"shank{}\".format(ishank),\n",
    "        description=\"electrode group for shank {}\".format(ishank),\n",
    "        device=device,\n",
    "        location=\"brain area\",\n",
    "    )\n",
    "    # add electrodes to the electrode table\n",
    "    for ielec in range(nchannels_per_shank):\n",
    "        nwbfile.add_electrode(\n",
    "            group=electrode_group,\n",
    "            label=\"shank{}elec{}\".format(ishank, ielec),\n",
    "            location=\"brain area\",\n",
    "        )\n",
    "        electrode_counter += 1\n",
    "\n",
    "all_table_region = nwbfile.create_electrode_table_region(\n",
    "    region=list(range(electrode_counter)),  # reference row indices 0 to N-1\n",
    "    description=\"all electrodes\",\n",
    ")\n",
    "\n",
    "raw_data = np.random.randn(50, 12)\n",
    "raw_electrical_series = ElectricalSeries(\n",
    "    name=\"ElectricalSeries\",\n",
    "    data=raw_data,\n",
    "    electrodes=all_table_region,\n",
    "    starting_time=0.0,  # timestamp of the first sample in seconds relative to the session start time\n",
    "    rate=20000.0,  # in Hz\n",
    ")\n",
    "\n",
    "nwbfile.add_acquisition(raw_electrical_series)\n",
    "\n",
    "with NWBHDF5IO(\"ecephys_tutorial.nwb\", \"w\") as io:\n",
    "    io.write(nwbfile)\n",
    "    \n",
    "with NWBHDF5IO(\"ecephys_tutorial.nwb\", \"r\") as io:\n",
    "    read_nwbfile = io.read()\n",
    "    \n",
    "    read_nwbfile.electrodes.group.data[0]\n",
    "#     print(read_nwbfile.acquisition[\"ElectricalSeries\"])\n",
    "#     print(read_nwbfile.processing[\"ecephys\"])\n",
    "#     print(read_nwbfile.processing[\"ecephys\"][\"LFP\"])\n",
    "#     print(read_nwbfile.processing[\"ecephys\"][\"LFP\"][\"ElectricalSeries\"])   "
   ]
  },
  {
   "cell_type": "code",
   "execution_count": 11,
   "id": "64d98003",
   "metadata": {},
   "outputs": [
    {
     "data": {
      "text/plain": [
       "<hdmf.backends.hdf5.h5_utils.ContainerH5ReferenceDataset at 0x1257419c0>"
      ]
     },
     "execution_count": 11,
     "metadata": {},
     "output_type": "execute_result"
    }
   ],
   "source": [
    " \n",
    "with NWBHDF5IO(\"ecephys_tutorial.nwb\", \"r\") as io:\n",
    "    read_nwbfile = io.read()\n",
    "    \n",
    "    r=read_nwbfile.electrodes.group.data\n",
    "r"
   ]
  },
  {
   "cell_type": "code",
   "execution_count": 6,
   "id": "8186595c",
   "metadata": {},
   "outputs": [
    {
     "data": {
      "text/html": [
       "\n",
       "        <style>\n",
       "            .container-fields {\n",
       "                font-family: \"Open Sans\", Arial, sans-serif;\n",
       "            }\n",
       "            .container-fields .field-value {\n",
       "                color: #00788E;\n",
       "            }\n",
       "            .container-fields details > summary {\n",
       "                cursor: pointer;\n",
       "                display: list-item;\n",
       "            }\n",
       "            .container-fields details > summary:hover {\n",
       "                color: #0A6EAA;\n",
       "            }\n",
       "        </style>\n",
       "        \n",
       "        <script>\n",
       "            function copyToClipboard(text) {\n",
       "                navigator.clipboard.writeText(text).then(function() {\n",
       "                    console.log('Copied to clipboard: ' + text);\n",
       "                }, function(err) {\n",
       "                    console.error('Could not copy text: ', err);\n",
       "                });\n",
       "            }\n",
       "\n",
       "            document.addEventListener('DOMContentLoaded', function() {\n",
       "                let fieldKeys = document.querySelectorAll('.container-fields .field-key');\n",
       "                fieldKeys.forEach(function(fieldKey) {\n",
       "                    fieldKey.addEventListener('click', function() {\n",
       "                        let accessCode = fieldKey.getAttribute('title').replace('Access code: ', '');\n",
       "                        copyToClipboard(accessCode);\n",
       "                    });\n",
       "                });\n",
       "            });\n",
       "        </script>\n",
       "        <div class='container-wrap'><div class='container-header'><div class='xr-obj-type'><h3>root (NWBFile)</h3></div></div><div style=\"margin-left: 0px;\" class=\"container-fields\"><span class=\"field-key\" title=\".fields['session_description']\">session_description:</span> <span class=\"field-value\">my first synthetic recording</span></div><div style=\"margin-left: 0px;\" class=\"container-fields\"><span class=\"field-key\" title=\".fields['identifier']\">identifier:</span> <span class=\"field-value\">3ca23677-ee6a-4c43-99dd-5da15c6d833f</span></div><div style=\"margin-left: 0px;\" class=\"container-fields\"><span class=\"field-key\" title=\".fields['session_start_time']\">session_start_time:</span> <span class=\"field-value\">2023-09-13 10:08:12.034293-07:00</span></div><div style=\"margin-left: 0px;\" class=\"container-fields\"><span class=\"field-key\" title=\".fields['timestamps_reference_time']\">timestamps_reference_time:</span> <span class=\"field-value\">2023-09-13 10:08:12.034293-07:00</span></div><details><summary style=\"display: list-item; margin-left: 0px;\" class=\"container-fields field-key\" title=\".fields['file_create_date']\"><b>file_create_date</b></summary><div style=\"margin-left: 20px;\" class=\"container-fields\"><span class=\"field-value\" title=\".fields['file_create_date'][0]\">2023-09-13 10:08:12.039496-07:00</span></div></details><div style=\"margin-left: 0px;\" class=\"container-fields\"><span class=\"field-key\" title=\".fields['experimenter']\">experimenter:</span> <span class=\"field-value\">('Baggins, Bilbo',)</span></div><details><summary style=\"display: list-item; margin-left: 0px;\" class=\"container-fields field-key\" title=\".fields['acquisition']\"><b>acquisition (1)</b></summary><details><summary style=\"display: list-item; margin-left: 20px;\" class=\"container-fields field-key\" title=\".fields['acquisition']['ElectricalSeries']\"><b>ElectricalSeries</b></summary><div style=\"margin-left: 40px;\" class=\"container-fields\"><span class=\"field-key\" title=\".fields['acquisition']['ElectricalSeries'].fields['starting_time']\">starting_time:</span> <span class=\"field-value\">0.0</span></div><div style=\"margin-left: 40px;\" class=\"container-fields\"><span class=\"field-key\" title=\".fields['acquisition']['ElectricalSeries'].fields['rate']\">rate:</span> <span class=\"field-value\">20000.0</span></div><div style=\"margin-left: 40px;\" class=\"container-fields\"><span class=\"field-key\" title=\".fields['acquisition']['ElectricalSeries'].fields['resolution']\">resolution:</span> <span class=\"field-value\">-1.0</span></div><div style=\"margin-left: 40px;\" class=\"container-fields\"><span class=\"field-key\" title=\".fields['acquisition']['ElectricalSeries'].fields['comments']\">comments:</span> <span class=\"field-value\">no comments</span></div><div style=\"margin-left: 40px;\" class=\"container-fields\"><span class=\"field-key\" title=\".fields['acquisition']['ElectricalSeries'].fields['description']\">description:</span> <span class=\"field-value\">no description</span></div><div style=\"margin-left: 40px;\" class=\"container-fields\"><span class=\"field-key\" title=\".fields['acquisition']['ElectricalSeries'].fields['conversion']\">conversion:</span> <span class=\"field-value\">1.0</span></div><div style=\"margin-left: 40px;\" class=\"container-fields\"><span class=\"field-key\" title=\".fields['acquisition']['ElectricalSeries'].fields['offset']\">offset:</span> <span class=\"field-value\">0.0</span></div><div style=\"margin-left: 40px;\" class=\"container-fields\"><span class=\"field-key\" title=\".fields['acquisition']['ElectricalSeries'].fields['unit']\">unit:</span> <span class=\"field-value\">volts</span></div><details><summary style=\"display: list-item; margin-left: 40px;\" class=\"container-fields field-key\" title=\".fields['acquisition']['ElectricalSeries'].fields['data']\"><b>data</b></summary></details><div style=\"margin-left: 40px;\" class=\"container-fields\"><span class=\"field-key\" title=\".fields['acquisition']['ElectricalSeries'].fields['starting_time_unit']\">starting_time_unit:</span> <span class=\"field-value\">seconds</span></div><details><summary style=\"display: list-item; margin-left: 40px;\" class=\"container-fields field-key\" title=\".fields['acquisition']['ElectricalSeries'].fields['electrodes']\"><b>electrodes</b></summary><div style=\"margin-left: 60px;\" class=\"container-fields\"><span class=\"field-key\" title=\".fields['acquisition']['ElectricalSeries'].fields['electrodes'].fields['description']\">description:</span> <span class=\"field-value\">all electrodes</span></div><details><summary style=\"display: list-item; margin-left: 60px;\" class=\"container-fields field-key\" title=\".fields['acquisition']['ElectricalSeries'].fields['electrodes'].fields['table']\"><b>table</b></summary><div style=\"margin-left: 80px;\" class=\"container-fields\"><span class=\"field-key\" title=\".fields['acquisition']['ElectricalSeries'].fields['electrodes'].fields['table'].fields['description']\">description:</span> <span class=\"field-value\">metadata about extracellular electrodes</span></div><details><summary style=\"display: list-item; margin-left: 80px;\" class=\"container-fields field-key\" title=\".fields['acquisition']['ElectricalSeries'].fields['electrodes'].fields['table'].fields['id']\"><b>id</b></summary></details><div style=\"margin-left: 80px;\" class=\"container-fields\"><span class=\"field-key\" title=\".fields['acquisition']['ElectricalSeries'].fields['electrodes'].fields['table'].fields['colnames']\">colnames:</span> <span class=\"field-value\">('location', 'group', 'group_name', 'label')</span></div><div style=\"margin-left: 80px;\" class=\"container-fields\"><span class=\"field-key\" title=\".fields['acquisition']['ElectricalSeries'].fields['electrodes'].fields['table'].fields['columns']\">columns:</span> <span class=\"field-value\">(<hdmf.common.table.VectorData object at 0x125d20d00>, <hdmf.common.table.VectorData object at 0x125d20c40>, <hdmf.common.table.VectorData object at 0x125d20bb0>, <hdmf.common.table.VectorData object at 0x125d20ca0>)</span></div></details></details></details></details><div style=\"margin-left: 0px;\" class=\"container-fields\"><span class=\"field-key\" title=\".fields['epoch_tags']\">epoch_tags:</span> <span class=\"field-value\">set()</span></div><details><summary style=\"display: list-item; margin-left: 0px;\" class=\"container-fields field-key\" title=\".fields['electrodes']\"><b>electrodes</b></summary><div style=\"margin-left: 20px;\" class=\"container-fields\"><span class=\"field-key\" title=\".fields['electrodes'].fields['description']\">description:</span> <span class=\"field-value\">metadata about extracellular electrodes</span></div><details><summary style=\"display: list-item; margin-left: 20px;\" class=\"container-fields field-key\" title=\".fields['electrodes'].fields['id']\"><b>id</b></summary></details><div style=\"margin-left: 20px;\" class=\"container-fields\"><span class=\"field-key\" title=\".fields['electrodes'].fields['colnames']\">colnames:</span> <span class=\"field-value\">('location', 'group', 'group_name', 'label')</span></div><div style=\"margin-left: 20px;\" class=\"container-fields\"><span class=\"field-key\" title=\".fields['electrodes'].fields['columns']\">columns:</span> <span class=\"field-value\">(<hdmf.common.table.VectorData object at 0x125d20d00>, <hdmf.common.table.VectorData object at 0x125d20c40>, <hdmf.common.table.VectorData object at 0x125d20bb0>, <hdmf.common.table.VectorData object at 0x125d20ca0>)</span></div></details><details><summary style=\"display: list-item; margin-left: 0px;\" class=\"container-fields field-key\" title=\".fields['electrode_groups']\"><b>electrode_groups (4)</b></summary><details><summary style=\"display: list-item; margin-left: 20px;\" class=\"container-fields field-key\" title=\".fields['electrode_groups']['shank0']\"><b>shank0</b></summary><div style=\"margin-left: 40px;\" class=\"container-fields\"><span class=\"field-key\" title=\".fields['electrode_groups']['shank0'].fields['description']\">description:</span> <span class=\"field-value\">electrode group for shank 0</span></div><div style=\"margin-left: 40px;\" class=\"container-fields\"><span class=\"field-key\" title=\".fields['electrode_groups']['shank0'].fields['location']\">location:</span> <span class=\"field-value\">brain area</span></div><details><summary style=\"display: list-item; margin-left: 40px;\" class=\"container-fields field-key\" title=\".fields['electrode_groups']['shank0'].fields['device']\"><b>device</b></summary><div style=\"margin-left: 60px;\" class=\"container-fields\"><span class=\"field-key\" title=\".fields['electrode_groups']['shank0'].fields['device'].fields['description']\">description:</span> <span class=\"field-value\">the best array</span></div><div style=\"margin-left: 60px;\" class=\"container-fields\"><span class=\"field-key\" title=\".fields['electrode_groups']['shank0'].fields['device'].fields['manufacturer']\">manufacturer:</span> <span class=\"field-value\">Probe Company 9000</span></div></details></details><details><summary style=\"display: list-item; margin-left: 20px;\" class=\"container-fields field-key\" title=\".fields['electrode_groups']['shank1']\"><b>shank1</b></summary><div style=\"margin-left: 40px;\" class=\"container-fields\"><span class=\"field-key\" title=\".fields['electrode_groups']['shank1'].fields['description']\">description:</span> <span class=\"field-value\">electrode group for shank 1</span></div><div style=\"margin-left: 40px;\" class=\"container-fields\"><span class=\"field-key\" title=\".fields['electrode_groups']['shank1'].fields['location']\">location:</span> <span class=\"field-value\">brain area</span></div><details><summary style=\"display: list-item; margin-left: 40px;\" class=\"container-fields field-key\" title=\".fields['electrode_groups']['shank1'].fields['device']\"><b>device</b></summary><div style=\"margin-left: 60px;\" class=\"container-fields\"><span class=\"field-key\" title=\".fields['electrode_groups']['shank1'].fields['device'].fields['description']\">description:</span> <span class=\"field-value\">the best array</span></div><div style=\"margin-left: 60px;\" class=\"container-fields\"><span class=\"field-key\" title=\".fields['electrode_groups']['shank1'].fields['device'].fields['manufacturer']\">manufacturer:</span> <span class=\"field-value\">Probe Company 9000</span></div></details></details><details><summary style=\"display: list-item; margin-left: 20px;\" class=\"container-fields field-key\" title=\".fields['electrode_groups']['shank2']\"><b>shank2</b></summary><div style=\"margin-left: 40px;\" class=\"container-fields\"><span class=\"field-key\" title=\".fields['electrode_groups']['shank2'].fields['description']\">description:</span> <span class=\"field-value\">electrode group for shank 2</span></div><div style=\"margin-left: 40px;\" class=\"container-fields\"><span class=\"field-key\" title=\".fields['electrode_groups']['shank2'].fields['location']\">location:</span> <span class=\"field-value\">brain area</span></div><details><summary style=\"display: list-item; margin-left: 40px;\" class=\"container-fields field-key\" title=\".fields['electrode_groups']['shank2'].fields['device']\"><b>device</b></summary><div style=\"margin-left: 60px;\" class=\"container-fields\"><span class=\"field-key\" title=\".fields['electrode_groups']['shank2'].fields['device'].fields['description']\">description:</span> <span class=\"field-value\">the best array</span></div><div style=\"margin-left: 60px;\" class=\"container-fields\"><span class=\"field-key\" title=\".fields['electrode_groups']['shank2'].fields['device'].fields['manufacturer']\">manufacturer:</span> <span class=\"field-value\">Probe Company 9000</span></div></details></details><details><summary style=\"display: list-item; margin-left: 20px;\" class=\"container-fields field-key\" title=\".fields['electrode_groups']['shank3']\"><b>shank3</b></summary><div style=\"margin-left: 40px;\" class=\"container-fields\"><span class=\"field-key\" title=\".fields['electrode_groups']['shank3'].fields['description']\">description:</span> <span class=\"field-value\">electrode group for shank 3</span></div><div style=\"margin-left: 40px;\" class=\"container-fields\"><span class=\"field-key\" title=\".fields['electrode_groups']['shank3'].fields['location']\">location:</span> <span class=\"field-value\">brain area</span></div><details><summary style=\"display: list-item; margin-left: 40px;\" class=\"container-fields field-key\" title=\".fields['electrode_groups']['shank3'].fields['device']\"><b>device</b></summary><div style=\"margin-left: 60px;\" class=\"container-fields\"><span class=\"field-key\" title=\".fields['electrode_groups']['shank3'].fields['device'].fields['description']\">description:</span> <span class=\"field-value\">the best array</span></div><div style=\"margin-left: 60px;\" class=\"container-fields\"><span class=\"field-key\" title=\".fields['electrode_groups']['shank3'].fields['device'].fields['manufacturer']\">manufacturer:</span> <span class=\"field-value\">Probe Company 9000</span></div></details></details></details><details><summary style=\"display: list-item; margin-left: 0px;\" class=\"container-fields field-key\" title=\".fields['devices']\"><b>devices (1)</b></summary><details><summary style=\"display: list-item; margin-left: 20px;\" class=\"container-fields field-key\" title=\".fields['devices']['array']\"><b>array</b></summary><div style=\"margin-left: 40px;\" class=\"container-fields\"><span class=\"field-key\" title=\".fields['devices']['array'].fields['description']\">description:</span> <span class=\"field-value\">the best array</span></div><div style=\"margin-left: 40px;\" class=\"container-fields\"><span class=\"field-key\" title=\".fields['devices']['array'].fields['manufacturer']\">manufacturer:</span> <span class=\"field-value\">Probe Company 9000</span></div></details></details><div style=\"margin-left: 0px;\" class=\"container-fields\"><span class=\"field-key\" title=\".fields['experiment_description']\">experiment_description:</span> <span class=\"field-value\">I went on an adventure to reclaim vast treasures.</span></div><div style=\"margin-left: 0px;\" class=\"container-fields\"><span class=\"field-key\" title=\".fields['session_id']\">session_id:</span> <span class=\"field-value\">LONELYMTN001</span></div><div style=\"margin-left: 0px;\" class=\"container-fields\"><span class=\"field-key\" title=\".fields['lab']\">lab:</span> <span class=\"field-value\">Bag End Laboratory</span></div><div style=\"margin-left: 0px;\" class=\"container-fields\"><span class=\"field-key\" title=\".fields['institution']\">institution:</span> <span class=\"field-value\">University of Middle Earth at the Shire</span></div></div>"
      ],
      "text/plain": [
       "root pynwb.file.NWBFile at 0x4924479792\n",
       "Fields:\n",
       "  acquisition: {\n",
       "    ElectricalSeries <class 'pynwb.ecephys.ElectricalSeries'>\n",
       "  }\n",
       "  devices: {\n",
       "    array <class 'pynwb.device.Device'>\n",
       "  }\n",
       "  electrode_groups: {\n",
       "    shank0 <class 'pynwb.ecephys.ElectrodeGroup'>,\n",
       "    shank1 <class 'pynwb.ecephys.ElectrodeGroup'>,\n",
       "    shank2 <class 'pynwb.ecephys.ElectrodeGroup'>,\n",
       "    shank3 <class 'pynwb.ecephys.ElectrodeGroup'>\n",
       "  }\n",
       "  electrodes: electrodes <class 'hdmf.common.table.DynamicTable'>\n",
       "  experiment_description: I went on an adventure to reclaim vast treasures.\n",
       "  experimenter: ['Baggins, Bilbo']\n",
       "  file_create_date: [datetime.datetime(2023, 9, 13, 10, 8, 12, 39496, tzinfo=tzoffset(None, -25200))]\n",
       "  identifier: 3ca23677-ee6a-4c43-99dd-5da15c6d833f\n",
       "  institution: University of Middle Earth at the Shire\n",
       "  lab: Bag End Laboratory\n",
       "  session_description: my first synthetic recording\n",
       "  session_id: LONELYMTN001\n",
       "  session_start_time: 2023-09-13 10:08:12.034293-07:00\n",
       "  timestamps_reference_time: 2023-09-13 10:08:12.034293-07:00"
      ]
     },
     "execution_count": 6,
     "metadata": {},
     "output_type": "execute_result"
    }
   ],
   "source": [
    "read_nwbfile"
   ]
  },
  {
   "cell_type": "code",
   "execution_count": 3,
   "id": "8a34f829",
   "metadata": {},
   "outputs": [
    {
     "data": {
      "text/plain": [
       "<hdmf.backends.hdf5.h5_utils.ContainerH5ReferenceDataset at 0x1249ab8e0>"
      ]
     },
     "execution_count": 3,
     "metadata": {},
     "output_type": "execute_result"
    }
   ],
   "source": [
    "read_nwbfile.electrodes.group.data"
   ]
  },
  {
   "cell_type": "code",
   "execution_count": 7,
   "id": "8754fa09",
   "metadata": {},
   "outputs": [
    {
     "ename": "ValueError",
     "evalue": "Dset_id is not a dataset id (dset_id is not a dataset ID)",
     "output_type": "error",
     "traceback": [
      "\u001b[0;31m---------------------------------------------------------------------------\u001b[0m",
      "\u001b[0;31mValueError\u001b[0m                                Traceback (most recent call last)",
      "Cell \u001b[0;32mIn[7], line 1\u001b[0m\n\u001b[0;32m----> 1\u001b[0m \u001b[43mread_nwbfile\u001b[49m\u001b[38;5;241;43m.\u001b[39;49m\u001b[43melectrodes\u001b[49m\u001b[38;5;241;43m.\u001b[39;49m\u001b[43mto_dataframe\u001b[49m\u001b[43m(\u001b[49m\u001b[43m)\u001b[49m\n",
      "File \u001b[0;32m~/Research/NWB/hdmf2/hdmf/src/hdmf/utils.py:644\u001b[0m, in \u001b[0;36mdocval.<locals>.dec.<locals>.func_call\u001b[0;34m(*args, **kwargs)\u001b[0m\n\u001b[1;32m    642\u001b[0m \u001b[38;5;28;01mdef\u001b[39;00m \u001b[38;5;21mfunc_call\u001b[39m(\u001b[38;5;241m*\u001b[39margs, \u001b[38;5;241m*\u001b[39m\u001b[38;5;241m*\u001b[39mkwargs):\n\u001b[1;32m    643\u001b[0m     pargs \u001b[38;5;241m=\u001b[39m _check_args(args, kwargs)\n\u001b[0;32m--> 644\u001b[0m     \u001b[38;5;28;01mreturn\u001b[39;00m \u001b[43mfunc\u001b[49m\u001b[43m(\u001b[49m\u001b[43margs\u001b[49m\u001b[43m[\u001b[49m\u001b[38;5;241;43m0\u001b[39;49m\u001b[43m]\u001b[49m\u001b[43m,\u001b[49m\u001b[43m \u001b[49m\u001b[38;5;241;43m*\u001b[39;49m\u001b[38;5;241;43m*\u001b[39;49m\u001b[43mpargs\u001b[49m\u001b[43m)\u001b[49m\n",
      "File \u001b[0;32m~/Research/NWB/hdmf2/hdmf/src/hdmf/common/table.py:1165\u001b[0m, in \u001b[0;36mDynamicTable.to_dataframe\u001b[0;34m(self, **kwargs)\u001b[0m\n\u001b[1;32m   1157\u001b[0m \u001b[38;5;250m\u001b[39m\u001b[38;5;124;03m\"\"\"\u001b[39;00m\n\u001b[1;32m   1158\u001b[0m \u001b[38;5;124;03mProduce a pandas DataFrame containing this table's data.\u001b[39;00m\n\u001b[1;32m   1159\u001b[0m \n\u001b[0;32m   (...)\u001b[0m\n\u001b[1;32m   1162\u001b[0m \u001b[38;5;124;03mIf exclude is None, this is equivalent to table.get(slice(None, None, None), index=False).\u001b[39;00m\n\u001b[1;32m   1163\u001b[0m \u001b[38;5;124;03m\"\"\"\u001b[39;00m\n\u001b[1;32m   1164\u001b[0m arg \u001b[38;5;241m=\u001b[39m \u001b[38;5;28mslice\u001b[39m(\u001b[38;5;28;01mNone\u001b[39;00m, \u001b[38;5;28;01mNone\u001b[39;00m, \u001b[38;5;28;01mNone\u001b[39;00m)  \u001b[38;5;66;03m# select all rows\u001b[39;00m\n\u001b[0;32m-> 1165\u001b[0m sel \u001b[38;5;241m=\u001b[39m \u001b[38;5;28;43mself\u001b[39;49m\u001b[38;5;241;43m.\u001b[39;49m\u001b[43m__get_selection_as_dict\u001b[49m\u001b[43m(\u001b[49m\u001b[43marg\u001b[49m\u001b[43m,\u001b[49m\u001b[43m \u001b[49m\u001b[43mdf\u001b[49m\u001b[38;5;241;43m=\u001b[39;49m\u001b[38;5;28;43;01mTrue\u001b[39;49;00m\u001b[43m,\u001b[49m\u001b[43m \u001b[49m\u001b[38;5;241;43m*\u001b[39;49m\u001b[38;5;241;43m*\u001b[39;49m\u001b[43mkwargs\u001b[49m\u001b[43m)\u001b[49m\n\u001b[1;32m   1166\u001b[0m ret \u001b[38;5;241m=\u001b[39m \u001b[38;5;28mself\u001b[39m\u001b[38;5;241m.\u001b[39m__get_selection_as_df(sel)\n\u001b[1;32m   1167\u001b[0m \u001b[38;5;28;01mreturn\u001b[39;00m ret\n",
      "File \u001b[0;32m~/Research/NWB/hdmf2/hdmf/src/hdmf/common/table.py:1016\u001b[0m, in \u001b[0;36mDynamicTable.__get_selection_as_dict\u001b[0;34m(self, arg, df, index, exclude, **kwargs)\u001b[0m\n\u001b[1;32m   1014\u001b[0m         \u001b[38;5;28;01mraise\u001b[39;00m \u001b[38;5;167;01mIndexError\u001b[39;00m(msg) \u001b[38;5;28;01mfrom\u001b[39;00m \u001b[38;5;21;01mve\u001b[39;00m\n\u001b[1;32m   1015\u001b[0m     \u001b[38;5;28;01melse\u001b[39;00m:  \u001b[38;5;66;03m# pragma: no cover\u001b[39;00m\n\u001b[0;32m-> 1016\u001b[0m         \u001b[38;5;28;01mraise\u001b[39;00m ve\n\u001b[1;32m   1017\u001b[0m \u001b[38;5;28;01mexcept\u001b[39;00m \u001b[38;5;167;01mIndexError\u001b[39;00m \u001b[38;5;28;01mas\u001b[39;00m ie:\n\u001b[1;32m   1018\u001b[0m     x \u001b[38;5;241m=\u001b[39m re\u001b[38;5;241m.\u001b[39mmatch(\u001b[38;5;124mr\u001b[39m\u001b[38;5;124m\"\u001b[39m\u001b[38;5;124m^Index \u001b[39m\u001b[38;5;124m\\\u001b[39m\u001b[38;5;124m((.*)\u001b[39m\u001b[38;5;124m\\\u001b[39m\u001b[38;5;124m) out of range for \u001b[39m\u001b[38;5;124m\\\u001b[39m\u001b[38;5;124m(.*\u001b[39m\u001b[38;5;124m\\\u001b[39m\u001b[38;5;124m)$\u001b[39m\u001b[38;5;124m\"\u001b[39m, \u001b[38;5;28mstr\u001b[39m(ie))\n",
      "File \u001b[0;32m~/Research/NWB/hdmf2/hdmf/src/hdmf/common/table.py:993\u001b[0m, in \u001b[0;36mDynamicTable.__get_selection_as_dict\u001b[0;34m(self, arg, df, index, exclude, **kwargs)\u001b[0m\n\u001b[1;32m    990\u001b[0m ret \u001b[38;5;241m=\u001b[39m OrderedDict()\n\u001b[1;32m    991\u001b[0m \u001b[38;5;28;01mtry\u001b[39;00m:\n\u001b[1;32m    992\u001b[0m     \u001b[38;5;66;03m# index with a python slice or single int to select one or multiple rows\u001b[39;00m\n\u001b[0;32m--> 993\u001b[0m     ret[\u001b[38;5;124m'\u001b[39m\u001b[38;5;124mid\u001b[39m\u001b[38;5;124m'\u001b[39m] \u001b[38;5;241m=\u001b[39m \u001b[38;5;28;43mself\u001b[39;49m\u001b[38;5;241;43m.\u001b[39;49m\u001b[43mid\u001b[49m\u001b[43m[\u001b[49m\u001b[43marg\u001b[49m\u001b[43m]\u001b[49m\n\u001b[1;32m    994\u001b[0m     \u001b[38;5;28;01mfor\u001b[39;00m name \u001b[38;5;129;01min\u001b[39;00m \u001b[38;5;28mself\u001b[39m\u001b[38;5;241m.\u001b[39mcolnames:\n\u001b[1;32m    995\u001b[0m         \u001b[38;5;28;01mif\u001b[39;00m name \u001b[38;5;129;01min\u001b[39;00m exclude:\n",
      "File \u001b[0;32m~/Research/NWB/hdmf2/hdmf/src/hdmf/container.py:823\u001b[0m, in \u001b[0;36mData.__getitem__\u001b[0;34m(self, args)\u001b[0m\n\u001b[1;32m    822\u001b[0m \u001b[38;5;28;01mdef\u001b[39;00m \u001b[38;5;21m__getitem__\u001b[39m(\u001b[38;5;28mself\u001b[39m, args):\n\u001b[0;32m--> 823\u001b[0m     \u001b[38;5;28;01mreturn\u001b[39;00m \u001b[38;5;28;43mself\u001b[39;49m\u001b[38;5;241;43m.\u001b[39;49m\u001b[43mget\u001b[49m\u001b[43m(\u001b[49m\u001b[43margs\u001b[49m\u001b[43m)\u001b[49m\n",
      "File \u001b[0;32m~/Research/NWB/hdmf2/hdmf/src/hdmf/container.py:831\u001b[0m, in \u001b[0;36mData.get\u001b[0;34m(self, args)\u001b[0m\n\u001b[1;32m    828\u001b[0m \u001b[38;5;28;01mif\u001b[39;00m \u001b[38;5;28misinstance\u001b[39m(\u001b[38;5;28mself\u001b[39m\u001b[38;5;241m.\u001b[39mdata, h5py\u001b[38;5;241m.\u001b[39mDataset) \u001b[38;5;129;01mand\u001b[39;00m \u001b[38;5;28misinstance\u001b[39m(args, np\u001b[38;5;241m.\u001b[39mndarray):\n\u001b[1;32m    829\u001b[0m     \u001b[38;5;66;03m# This is needed for h5py 2.9 compatibility\u001b[39;00m\n\u001b[1;32m    830\u001b[0m     args \u001b[38;5;241m=\u001b[39m args\u001b[38;5;241m.\u001b[39mtolist()\n\u001b[0;32m--> 831\u001b[0m \u001b[38;5;28;01mreturn\u001b[39;00m \u001b[38;5;28;43mself\u001b[39;49m\u001b[38;5;241;43m.\u001b[39;49m\u001b[43mdata\u001b[49m\u001b[43m[\u001b[49m\u001b[43margs\u001b[49m\u001b[43m]\u001b[49m\n",
      "File \u001b[0;32mh5py/_objects.pyx:54\u001b[0m, in \u001b[0;36mh5py._objects.with_phil.wrapper\u001b[0;34m()\u001b[0m\n",
      "File \u001b[0;32mh5py/_objects.pyx:55\u001b[0m, in \u001b[0;36mh5py._objects.with_phil.wrapper\u001b[0;34m()\u001b[0m\n",
      "File \u001b[0;32m~/opt/anaconda3/envs/NWB2/lib/python3.10/site-packages/h5py/_hl/dataset.py:768\u001b[0m, in \u001b[0;36mDataset.__getitem__\u001b[0;34m(self, args, new_dtype)\u001b[0m\n\u001b[1;32m    766\u001b[0m \u001b[38;5;28;01mif\u001b[39;00m \u001b[38;5;28mself\u001b[39m\u001b[38;5;241m.\u001b[39m_fast_read_ok \u001b[38;5;129;01mand\u001b[39;00m (new_dtype \u001b[38;5;129;01mis\u001b[39;00m \u001b[38;5;28;01mNone\u001b[39;00m):\n\u001b[1;32m    767\u001b[0m     \u001b[38;5;28;01mtry\u001b[39;00m:\n\u001b[0;32m--> 768\u001b[0m         \u001b[38;5;28;01mreturn\u001b[39;00m \u001b[38;5;28;43mself\u001b[39;49m\u001b[38;5;241;43m.\u001b[39;49m\u001b[43m_fast_reader\u001b[49m\u001b[38;5;241;43m.\u001b[39;49m\u001b[43mread\u001b[49m\u001b[43m(\u001b[49m\u001b[43margs\u001b[49m\u001b[43m)\u001b[49m\n\u001b[1;32m    769\u001b[0m     \u001b[38;5;28;01mexcept\u001b[39;00m \u001b[38;5;167;01mTypeError\u001b[39;00m:\n\u001b[1;32m    770\u001b[0m         \u001b[38;5;28;01mpass\u001b[39;00m  \u001b[38;5;66;03m# Fall back to Python read pathway below\u001b[39;00m\n",
      "File \u001b[0;32mh5py/_selector.pyx:376\u001b[0m, in \u001b[0;36mh5py._selector.Reader.read\u001b[0;34m()\u001b[0m\n",
      "\u001b[0;31mValueError\u001b[0m: Dset_id is not a dataset id (dset_id is not a dataset ID)"
     ]
    }
   ],
   "source": [
    "read_nwbfile.electrodes.to_dataframe()"
   ]
  },
  {
   "cell_type": "code",
   "execution_count": null,
   "id": "3a2b52e1",
   "metadata": {},
   "outputs": [],
   "source": []
  },
  {
   "cell_type": "code",
   "execution_count": null,
   "id": "8fca155f",
   "metadata": {},
   "outputs": [],
   "source": []
  },
  {
   "cell_type": "code",
   "execution_count": null,
   "id": "738c1aa7",
   "metadata": {},
   "outputs": [],
   "source": []
  },
  {
   "cell_type": "code",
   "execution_count": null,
   "id": "8d6f3e02",
   "metadata": {},
   "outputs": [],
   "source": []
  },
  {
   "cell_type": "code",
   "execution_count": null,
   "id": "e57dbd57",
   "metadata": {},
   "outputs": [],
   "source": []
  },
  {
   "cell_type": "code",
   "execution_count": 1,
   "id": "fe3f5ff5",
   "metadata": {},
   "outputs": [],
   "source": [
    "# sphinx_gallery_thumbnail_path = 'figures/gallery_thumbnail_plot_convert_nwb.png'\n",
    "import os\n",
    "import shutil\n",
    "\n",
    "# Input file to convert\n",
    "basedir = \"resources\"\n",
    "filename = os.path.join(basedir, \"sub_anm00239123_ses_20170627T093549_ecephys_and_ogen.nwb\")\n",
    "# Zarr file to generate for converting from HDF5 to Zarr\n",
    "zarr_filename = \"test_zarr_\" + os.path.basename(filename) + \".zarr\"\n",
    "# HDF5 file to generate for converting from Zarr to HDF5\n",
    "hdf_filename = \"test_hdf5_\" + os.path.basename(filename)\n",
    "\n",
    "# Delete our converted HDF5 and Zarr file from previous runs of this notebook\n",
    "for fname in [zarr_filename, hdf_filename]:\n",
    "    if os.path.exists(fname):\n",
    "        print(\"Removing %s\" % fname)\n",
    "        if os.path.isfile(fname):  # Remove a single file (here the HDF5 file)\n",
    "            os.remove(fname)\n",
    "        else:  # remove whole directory and subtree (here the Zarr file)\n",
    "            shutil.rmtree(zarr_filename)\n",
    "\n",
    "###############################################################################\n",
    "# Convert the NWB file from HDF5 to Zarr\n",
    "# --------------------------------------\n",
    "#\n",
    "# To convert files between storage backends, we use HMDF's :hdmf-docs:`export <export.html>` functionality.\n",
    "# As this is an NWB file, we here use the :py:class:`pynwb.NWBHDF5IO` backend for reading the file from\n",
    "# from HDF5 and use the :py:class:`~hdmf_zarr.nwb.NWBZarrIO` backend to export the file to Zarr.\n",
    "\n",
    "from pynwb import NWBHDF5IO\n",
    "from hdmf_zarr.nwb import NWBZarrIO\n",
    "\n",
    "# with NWBHDF5IO(filename, 'r', load_namespaces=False) as read_io:\n",
    "#     file = read_io.read()\n",
    "#\n",
    "with NWBHDF5IO(filename, 'r', load_namespaces=False) as read_io:  # Create HDF5 IO object for read\n",
    "    with NWBZarrIO(zarr_filename, mode='w') as export_io:         # Create Zarr IO object for write\n",
    "        export_io.export(src_io=read_io, write_args=dict(link_data=False))   # Export from HDF5 to Zarr\n",
    "\n",
    "with NWBZarrIO(path=zarr_filename, mode=\"r\") as io:\n",
    "    infile = io.read()\n"
   ]
  },
  {
   "cell_type": "code",
   "execution_count": 2,
   "id": "1609b673",
   "metadata": {},
   "outputs": [
    {
     "data": {
      "text/html": [
       "\n",
       "        <style>\n",
       "            .container-fields {\n",
       "                font-family: \"Open Sans\", Arial, sans-serif;\n",
       "            }\n",
       "            .container-fields .field-value {\n",
       "                color: #00788E;\n",
       "            }\n",
       "            .container-fields details > summary {\n",
       "                cursor: pointer;\n",
       "                display: list-item;\n",
       "            }\n",
       "            .container-fields details > summary:hover {\n",
       "                color: #0A6EAA;\n",
       "            }\n",
       "        </style>\n",
       "        \n",
       "        <script>\n",
       "            function copyToClipboard(text) {\n",
       "                navigator.clipboard.writeText(text).then(function() {\n",
       "                    console.log('Copied to clipboard: ' + text);\n",
       "                }, function(err) {\n",
       "                    console.error('Could not copy text: ', err);\n",
       "                });\n",
       "            }\n",
       "\n",
       "            document.addEventListener('DOMContentLoaded', function() {\n",
       "                let fieldKeys = document.querySelectorAll('.container-fields .field-key');\n",
       "                fieldKeys.forEach(function(fieldKey) {\n",
       "                    fieldKey.addEventListener('click', function() {\n",
       "                        let accessCode = fieldKey.getAttribute('title').replace('Access code: ', '');\n",
       "                        copyToClipboard(accessCode);\n",
       "                    });\n",
       "                });\n",
       "            });\n",
       "        </script>\n",
       "        <div class='container-wrap'><div class='container-header'><div class='xr-obj-type'><h3>root (NWBFile)</h3></div></div><div style=\"margin-left: 0px;\" class=\"container-fields\"><span class=\"field-key\" title=\".fields['session_description']\">session_description:</span> <span class=\"field-value\">Extracellular ephys recording of mouse doing discrimination task(lick left/right), with optogenetic stimulation plus pole and auditory stimulus</span></div><div style=\"margin-left: 0px;\" class=\"container-fields\"><span class=\"field-key\" title=\".fields['identifier']\">identifier:</span> <span class=\"field-value\">anm00239123_2017-06-27_09-35-49</span></div><div style=\"margin-left: 0px;\" class=\"container-fields\"><span class=\"field-key\" title=\".fields['session_start_time']\">session_start_time:</span> <span class=\"field-value\">2017-06-27 09:35:49-05:00</span></div><div style=\"margin-left: 0px;\" class=\"container-fields\"><span class=\"field-key\" title=\".fields['timestamps_reference_time']\">timestamps_reference_time:</span> <span class=\"field-value\">2017-06-27 09:35:49-05:00</span></div><details><summary style=\"display: list-item; margin-left: 0px;\" class=\"container-fields field-key\" title=\".fields['file_create_date']\"><b>file_create_date</b></summary><div style=\"margin-left: 20px;\" class=\"container-fields\"><span class=\"field-value\" title=\".fields['file_create_date'][0]\">2019-10-07 15:10:30.595741-05:00</span></div></details><div style=\"margin-left: 0px;\" class=\"container-fields\"><span class=\"field-key\" title=\".fields['experimenter']\">experimenter:</span> <span class=\"field-value\">('Zengcai Guo',)</span></div><div style=\"margin-left: 0px;\" class=\"container-fields\"><span class=\"field-key\" title=\".fields['related_publications']\">related_publications:</span> <span class=\"field-value\">('doi:10.1038/nature22324',)</span></div><div style=\"margin-left: 0px;\" class=\"container-fields\"><span class=\"field-key\" title=\".fields['keywords']\">keywords:</span> <span class=\"field-value\"><zarr.core.Array '/general/keywords' (6,) object read-only></span></div><div style=\"margin-left: 0px;\" class=\"container-fields\"><span class=\"field-key\" title=\".fields['epoch_tags']\">epoch_tags:</span> <span class=\"field-value\">set()</span></div><details><summary style=\"display: list-item; margin-left: 0px;\" class=\"container-fields field-key\" title=\".fields['electrodes']\"><b>electrodes</b></summary><div style=\"margin-left: 20px;\" class=\"container-fields\"><span class=\"field-key\" title=\".fields['electrodes'].fields['description']\">description:</span> <span class=\"field-value\">metadata about extracellular electrodes</span></div><details><summary style=\"display: list-item; margin-left: 20px;\" class=\"container-fields field-key\" title=\".fields['electrodes'].fields['id']\"><b>id</b></summary></details><div style=\"margin-left: 20px;\" class=\"container-fields\"><span class=\"field-key\" title=\".fields['electrodes'].fields['colnames']\">colnames:</span> <span class=\"field-value\">('x', 'y', 'z', 'imp', 'location', 'filtering', 'group', 'group_name')</span></div><div style=\"margin-left: 20px;\" class=\"container-fields\"><span class=\"field-key\" title=\".fields['electrodes'].fields['columns']\">columns:</span> <span class=\"field-value\">(<hdmf.common.table.VectorData object at 0x1215673a0>, <hdmf.common.table.VectorData object at 0x121567550>, <hdmf.common.table.VectorData object at 0x121567670>, <hdmf.common.table.VectorData object at 0x1215674c0>, <hdmf.common.table.VectorData object at 0x1215677c0>, <hdmf.common.table.VectorData object at 0x121567220>, <hdmf.common.table.VectorData object at 0x1215675b0>, <hdmf.common.table.VectorData object at 0x121567430>)</span></div></details><details><summary style=\"display: list-item; margin-left: 0px;\" class=\"container-fields field-key\" title=\".fields['electrode_groups']\"><b>electrode_groups (1)</b></summary><details><summary style=\"display: list-item; margin-left: 20px;\" class=\"container-fields field-key\" title=\".fields['electrode_groups']['ADunit_32']\"><b>ADunit_32</b></summary><div style=\"margin-left: 40px;\" class=\"container-fields\"><span class=\"field-key\" title=\".fields['electrode_groups']['ADunit_32'].fields['description']\">description:</span> <span class=\"field-value\">N/A</span></div><div style=\"margin-left: 40px;\" class=\"container-fields\"><span class=\"field-key\" title=\".fields['electrode_groups']['ADunit_32'].fields['location']\">location:</span> <span class=\"field-value\">brain_region: Thalamus; brain_subregion: N/A; cortical_layer: N/A; hemisphere: left; coordinate_ref: bregma; coordinate_ap: 2.50; coordinate_ml: -1.50; coordinate_dv: 0.00</span></div><details><summary style=\"display: list-item; margin-left: 40px;\" class=\"container-fields field-key\" title=\".fields['electrode_groups']['ADunit_32'].fields['device']\"><b>device</b></summary></details></details></details><details><summary style=\"display: list-item; margin-left: 0px;\" class=\"container-fields field-key\" title=\".fields['devices']\"><b>devices (2)</b></summary><details><summary style=\"display: list-item; margin-left: 20px;\" class=\"container-fields field-key\" title=\".fields['devices']['ADunit']\"><b>ADunit</b></summary></details><details><summary style=\"display: list-item; margin-left: 20px;\" class=\"container-fields field-key\" title=\".fields['devices']['laser']\"><b>laser</b></summary></details></details><details><summary style=\"display: list-item; margin-left: 0px;\" class=\"container-fields field-key\" title=\".fields['ogen_sites']\"><b>ogen_sites (1)</b></summary><details><summary style=\"display: list-item; margin-left: 20px;\" class=\"container-fields field-key\" title=\".fields['ogen_sites']['left-ALM']\"><b>left-ALM</b></summary><details><summary style=\"display: list-item; margin-left: 40px;\" class=\"container-fields field-key\" title=\".fields['ogen_sites']['left-ALM'].fields['device']\"><b>device</b></summary></details><div style=\"margin-left: 40px;\" class=\"container-fields\"><span class=\"field-key\" title=\".fields['ogen_sites']['left-ALM'].fields['description']\">description:</span> <span class=\"field-value\">site_2 -  </span></div><div style=\"margin-left: 40px;\" class=\"container-fields\"><span class=\"field-key\" title=\".fields['ogen_sites']['left-ALM'].fields['excitation_lambda']\">excitation_lambda:</span> <span class=\"field-value\">473.0</span></div><div style=\"margin-left: 40px;\" class=\"container-fields\"><span class=\"field-key\" title=\".fields['ogen_sites']['left-ALM'].fields['location']\">location:</span> <span class=\"field-value\">brain_region: ALM; brain_subregion: N/A; cortical_layer: N/A; hemisphere: left; coordinate_ref: bregma; coordinate_ap: 2.50; coordinate_ml: -1.50; coordinate_dv: 0.00</span></div></details></details><details><summary style=\"display: list-item; margin-left: 0px;\" class=\"container-fields field-key\" title=\".fields['intervals']\"><b>intervals (1)</b></summary><details><summary style=\"display: list-item; margin-left: 20px;\" class=\"container-fields field-key\" title=\".fields['intervals']['trials']\"><b>trials</b></summary><div style=\"margin-left: 40px;\" class=\"container-fields\"><span class=\"field-key\" title=\".fields['intervals']['trials'].fields['description']\">description:</span> <span class=\"field-value\">experimental trials</span></div><details><summary style=\"display: list-item; margin-left: 40px;\" class=\"container-fields field-key\" title=\".fields['intervals']['trials'].fields['id']\"><b>id</b></summary></details><div style=\"margin-left: 40px;\" class=\"container-fields\"><span class=\"field-key\" title=\".fields['intervals']['trials'].fields['colnames']\">colnames:</span> <span class=\"field-value\">('start_time', 'stop_time', 'type', 'response', 'stim_present', 'is_good', 'photo_stim_type', 'photo_stim_period', 'photo_stim_power', 'photo_loc_galvo_x', 'photo_loc_galvo_y', 'photo_loc_galvo_z', 'cue_end_time', 'cue_start_time', 'pole_in_time', 'pole_out_time')</span></div><div style=\"margin-left: 40px;\" class=\"container-fields\"><span class=\"field-key\" title=\".fields['intervals']['trials'].fields['columns']\">columns:</span> <span class=\"field-value\">(<hdmf.common.table.VectorData object at 0x121567580>, <hdmf.common.table.VectorData object at 0x1215678b0>, <hdmf.common.table.VectorData object at 0x121567ca0>, <hdmf.common.table.VectorData object at 0x121567d30>, <hdmf.common.table.VectorData object at 0x121567f10>, <hdmf.common.table.VectorData object at 0x121567b80>, <hdmf.common.table.VectorData object at 0x121567cd0>, <hdmf.common.table.VectorData object at 0x121567c10>, <hdmf.common.table.VectorData object at 0x121566e60>, <hdmf.common.table.VectorData object at 0x121567970>, <hdmf.common.table.VectorData object at 0x121567a30>, <hdmf.common.table.VectorData object at 0x121567ac0>, <hdmf.common.table.VectorData object at 0x1215676a0>, <hdmf.common.table.VectorData object at 0x1215678e0>, <hdmf.common.table.VectorData object at 0x121567d00>, <hdmf.common.table.VectorData object at 0x121567eb0>)</span></div></details></details><details><summary style=\"display: list-item; margin-left: 0px;\" class=\"container-fields field-key\" title=\".fields['subject']\"><b>subject</b></summary><div style=\"margin-left: 20px;\" class=\"container-fields\"><span class=\"field-key\" title=\".fields['subject'].fields['genotype']\">genotype:</span> <span class=\"field-value\">Ai32 x PV-Cre</span></div><div style=\"margin-left: 20px;\" class=\"container-fields\"><span class=\"field-key\" title=\".fields['subject'].fields['sex']\">sex:</span> <span class=\"field-value\">M</span></div><div style=\"margin-left: 20px;\" class=\"container-fields\"><span class=\"field-key\" title=\".fields['subject'].fields['species']\">species:</span> <span class=\"field-value\">Mus musculus</span></div><div style=\"margin-left: 20px;\" class=\"container-fields\"><span class=\"field-key\" title=\".fields['subject'].fields['subject_id']\">subject_id:</span> <span class=\"field-value\">anm00239123</span></div></details><details><summary style=\"display: list-item; margin-left: 0px;\" class=\"container-fields field-key\" title=\".fields['trials']\"><b>trials</b></summary><div style=\"margin-left: 20px;\" class=\"container-fields\"><span class=\"field-key\" title=\".fields['trials'].fields['description']\">description:</span> <span class=\"field-value\">experimental trials</span></div><details><summary style=\"display: list-item; margin-left: 20px;\" class=\"container-fields field-key\" title=\".fields['trials'].fields['id']\"><b>id</b></summary></details><div style=\"margin-left: 20px;\" class=\"container-fields\"><span class=\"field-key\" title=\".fields['trials'].fields['colnames']\">colnames:</span> <span class=\"field-value\">('start_time', 'stop_time', 'type', 'response', 'stim_present', 'is_good', 'photo_stim_type', 'photo_stim_period', 'photo_stim_power', 'photo_loc_galvo_x', 'photo_loc_galvo_y', 'photo_loc_galvo_z', 'cue_end_time', 'cue_start_time', 'pole_in_time', 'pole_out_time')</span></div><div style=\"margin-left: 20px;\" class=\"container-fields\"><span class=\"field-key\" title=\".fields['trials'].fields['columns']\">columns:</span> <span class=\"field-value\">(<hdmf.common.table.VectorData object at 0x121567580>, <hdmf.common.table.VectorData object at 0x1215678b0>, <hdmf.common.table.VectorData object at 0x121567ca0>, <hdmf.common.table.VectorData object at 0x121567d30>, <hdmf.common.table.VectorData object at 0x121567f10>, <hdmf.common.table.VectorData object at 0x121567b80>, <hdmf.common.table.VectorData object at 0x121567cd0>, <hdmf.common.table.VectorData object at 0x121567c10>, <hdmf.common.table.VectorData object at 0x121566e60>, <hdmf.common.table.VectorData object at 0x121567970>, <hdmf.common.table.VectorData object at 0x121567a30>, <hdmf.common.table.VectorData object at 0x121567ac0>, <hdmf.common.table.VectorData object at 0x1215676a0>, <hdmf.common.table.VectorData object at 0x1215678e0>, <hdmf.common.table.VectorData object at 0x121567d00>, <hdmf.common.table.VectorData object at 0x121567eb0>)</span></div></details><details><summary style=\"display: list-item; margin-left: 0px;\" class=\"container-fields field-key\" title=\".fields['units']\"><b>units</b></summary><div style=\"margin-left: 20px;\" class=\"container-fields\"><span class=\"field-key\" title=\".fields['units'].fields['description']\">description:</span> <span class=\"field-value\">Autogenerated by NWBFile</span></div><details><summary style=\"display: list-item; margin-left: 20px;\" class=\"container-fields field-key\" title=\".fields['units'].fields['id']\"><b>id</b></summary></details><div style=\"margin-left: 20px;\" class=\"container-fields\"><span class=\"field-key\" title=\".fields['units'].fields['colnames']\">colnames:</span> <span class=\"field-value\">('sampling_rate', 'unit_x', 'unit_y', 'unit_z', 'cell_type', 'spike_times', 'electrodes', 'waveform_mean', 'waveform_sd')</span></div><div style=\"margin-left: 20px;\" class=\"container-fields\"><span class=\"field-key\" title=\".fields['units'].fields['columns']\">columns:</span> <span class=\"field-value\">(<hdmf.common.table.VectorData object at 0x121564a60>, <hdmf.common.table.VectorData object at 0x121566290>, <hdmf.common.table.VectorData object at 0x1215660b0>, <hdmf.common.table.VectorData object at 0x1215651e0>, <hdmf.common.table.VectorData object at 0x121564ca0>, <hdmf.common.table.VectorIndex object at 0x1215679a0>, <hdmf.common.table.VectorData object at 0x121567a00>, <hdmf.common.table.VectorIndex object at 0x121566aa0>, electrodes hdmf.common.table.DynamicTableRegion at 0x4854284000\n",
       "    Target table: electrodes hdmf.common.table.DynamicTable at 0x4854280976\n",
       ", <hdmf.common.table.VectorData object at 0x121567e20>, <hdmf.common.table.VectorData object at 0x121567fd0>)</span></div><div style=\"margin-left: 20px;\" class=\"container-fields\"><span class=\"field-key\" title=\".fields['units'].fields['waveform_unit']\">waveform_unit:</span> <span class=\"field-value\">volts</span></div></details><div style=\"margin-left: 0px;\" class=\"container-fields\"><span class=\"field-key\" title=\".fields['experiment_description']\">experiment_description:</span> <span class=\"field-value\">N/A</span></div><div style=\"margin-left: 0px;\" class=\"container-fields\"><span class=\"field-key\" title=\".fields['institution']\">institution:</span> <span class=\"field-value\">Janelia Research Campus</span></div></div>"
      ],
      "text/plain": [
       "root pynwb.file.NWBFile at 0x4854283616\n",
       "Fields:\n",
       "  devices: {\n",
       "    ADunit <class 'pynwb.device.Device'>,\n",
       "    laser <class 'pynwb.device.Device'>\n",
       "  }\n",
       "  electrode_groups: {\n",
       "    ADunit_32 <class 'pynwb.ecephys.ElectrodeGroup'>\n",
       "  }\n",
       "  electrodes: electrodes <class 'hdmf.common.table.DynamicTable'>\n",
       "  experiment_description: N/A\n",
       "  experimenter: ['Zengcai Guo']\n",
       "  file_create_date: [datetime.datetime(2019, 10, 7, 15, 10, 30, 595741, tzinfo=tzoffset(None, -18000))]\n",
       "  identifier: anm00239123_2017-06-27_09-35-49\n",
       "  institution: Janelia Research Campus\n",
       "  intervals: {\n",
       "    trials <class 'pynwb.epoch.TimeIntervals'>\n",
       "  }\n",
       "  keywords: <zarr.core.Array '/general/keywords' (6,) object read-only>\n",
       "  ogen_sites: {\n",
       "    left-ALM <class 'pynwb.ogen.OptogeneticStimulusSite'>\n",
       "  }\n",
       "  related_publications: ['doi:10.1038/nature22324']\n",
       "  session_description: Extracellular ephys recording of mouse doing discrimination task(lick left/right), with optogenetic stimulation plus pole and auditory stimulus\n",
       "  session_start_time: 2017-06-27 09:35:49-05:00\n",
       "  subject: subject pynwb.file.Subject at 0x4854278624\n",
       "Fields:\n",
       "  genotype: Ai32 x PV-Cre\n",
       "  sex: M\n",
       "  species: Mus musculus\n",
       "  subject_id: anm00239123\n",
       "\n",
       "  timestamps_reference_time: 2017-06-27 09:35:49-05:00\n",
       "  trials: trials <class 'pynwb.epoch.TimeIntervals'>\n",
       "  units: units <class 'pynwb.misc.Units'>"
      ]
     },
     "execution_count": 2,
     "metadata": {},
     "output_type": "execute_result"
    }
   ],
   "source": [
    "infile"
   ]
  },
  {
   "cell_type": "code",
   "execution_count": 8,
   "id": "a678cc1c",
   "metadata": {},
   "outputs": [
    {
     "data": {
      "text/plain": [
       "array([{'source': '.', 'path': '/general/extracellular_ephys/ADunit_32', 0: root/general/extracellular_ephys/ADunit_32 GroupBuilder {'attributes': {'description': 'N/A', 'location': 'brain_region: Thalamus; brain_subregion: N/A; cortical_layer: N/A; hemisphere: left; coordinate_ref: bregma; coordinate_ap: 2.50; coordinate_ml: -1.50; coordinate_dv: 0.00', 'namespace': 'core', 'neurodata_type': 'ElectrodeGroup', 'object_id': 'c9e8c070-688a-4347-9629-539a755a47c7'}, 'groups': {}, 'datasets': {}, 'links': {'device': root/general/extracellular_ephys/ADunit_32/device LinkBuilder {'builder': root/general/devices/ADunit GroupBuilder {'attributes': {'namespace': 'core', 'neurodata_type': 'Device', 'object_id': '6065edb9-03a4-40e1-84f2-1bdc14799ede'}, 'groups': {}, 'datasets': {}, 'links': {}}}}}},\n",
       "       {'source': '.', 'path': '/general/extracellular_ephys/ADunit_32', 1: root/general/extracellular_ephys/ADunit_32 GroupBuilder {'attributes': {'description': 'N/A', 'location': 'brain_region: Thalamus; brain_subregion: N/A; cortical_layer: N/A; hemisphere: left; coordinate_ref: bregma; coordinate_ap: 2.50; coordinate_ml: -1.50; coordinate_dv: 0.00', 'namespace': 'core', 'neurodata_type': 'ElectrodeGroup', 'object_id': 'c9e8c070-688a-4347-9629-539a755a47c7'}, 'groups': {}, 'datasets': {}, 'links': {'device': root/general/extracellular_ephys/ADunit_32/device LinkBuilder {'builder': root/general/devices/ADunit GroupBuilder {'attributes': {'namespace': 'core', 'neurodata_type': 'Device', 'object_id': '6065edb9-03a4-40e1-84f2-1bdc14799ede'}, 'groups': {}, 'datasets': {}, 'links': {}}}}}},\n",
       "       {'source': '.', 'path': '/general/extracellular_ephys/ADunit_32', 2: root/general/extracellular_ephys/ADunit_32 GroupBuilder {'attributes': {'description': 'N/A', 'location': 'brain_region: Thalamus; brain_subregion: N/A; cortical_layer: N/A; hemisphere: left; coordinate_ref: bregma; coordinate_ap: 2.50; coordinate_ml: -1.50; coordinate_dv: 0.00', 'namespace': 'core', 'neurodata_type': 'ElectrodeGroup', 'object_id': 'c9e8c070-688a-4347-9629-539a755a47c7'}, 'groups': {}, 'datasets': {}, 'links': {'device': root/general/extracellular_ephys/ADunit_32/device LinkBuilder {'builder': root/general/devices/ADunit GroupBuilder {'attributes': {'namespace': 'core', 'neurodata_type': 'Device', 'object_id': '6065edb9-03a4-40e1-84f2-1bdc14799ede'}, 'groups': {}, 'datasets': {}, 'links': {}}}}}},\n",
       "       {'source': '.', 'path': '/general/extracellular_ephys/ADunit_32', 3: root/general/extracellular_ephys/ADunit_32 GroupBuilder {'attributes': {'description': 'N/A', 'location': 'brain_region: Thalamus; brain_subregion: N/A; cortical_layer: N/A; hemisphere: left; coordinate_ref: bregma; coordinate_ap: 2.50; coordinate_ml: -1.50; coordinate_dv: 0.00', 'namespace': 'core', 'neurodata_type': 'ElectrodeGroup', 'object_id': 'c9e8c070-688a-4347-9629-539a755a47c7'}, 'groups': {}, 'datasets': {}, 'links': {'device': root/general/extracellular_ephys/ADunit_32/device LinkBuilder {'builder': root/general/devices/ADunit GroupBuilder {'attributes': {'namespace': 'core', 'neurodata_type': 'Device', 'object_id': '6065edb9-03a4-40e1-84f2-1bdc14799ede'}, 'groups': {}, 'datasets': {}, 'links': {}}}}}},\n",
       "       {'source': '.', 'path': '/general/extracellular_ephys/ADunit_32', 4: root/general/extracellular_ephys/ADunit_32 GroupBuilder {'attributes': {'description': 'N/A', 'location': 'brain_region: Thalamus; brain_subregion: N/A; cortical_layer: N/A; hemisphere: left; coordinate_ref: bregma; coordinate_ap: 2.50; coordinate_ml: -1.50; coordinate_dv: 0.00', 'namespace': 'core', 'neurodata_type': 'ElectrodeGroup', 'object_id': 'c9e8c070-688a-4347-9629-539a755a47c7'}, 'groups': {}, 'datasets': {}, 'links': {'device': root/general/extracellular_ephys/ADunit_32/device LinkBuilder {'builder': root/general/devices/ADunit GroupBuilder {'attributes': {'namespace': 'core', 'neurodata_type': 'Device', 'object_id': '6065edb9-03a4-40e1-84f2-1bdc14799ede'}, 'groups': {}, 'datasets': {}, 'links': {}}}}}},\n",
       "       {'source': '.', 'path': '/general/extracellular_ephys/ADunit_32', 5: root/general/extracellular_ephys/ADunit_32 GroupBuilder {'attributes': {'description': 'N/A', 'location': 'brain_region: Thalamus; brain_subregion: N/A; cortical_layer: N/A; hemisphere: left; coordinate_ref: bregma; coordinate_ap: 2.50; coordinate_ml: -1.50; coordinate_dv: 0.00', 'namespace': 'core', 'neurodata_type': 'ElectrodeGroup', 'object_id': 'c9e8c070-688a-4347-9629-539a755a47c7'}, 'groups': {}, 'datasets': {}, 'links': {'device': root/general/extracellular_ephys/ADunit_32/device LinkBuilder {'builder': root/general/devices/ADunit GroupBuilder {'attributes': {'namespace': 'core', 'neurodata_type': 'Device', 'object_id': '6065edb9-03a4-40e1-84f2-1bdc14799ede'}, 'groups': {}, 'datasets': {}, 'links': {}}}}}},\n",
       "       {'source': '.', 'path': '/general/extracellular_ephys/ADunit_32', 6: root/general/extracellular_ephys/ADunit_32 GroupBuilder {'attributes': {'description': 'N/A', 'location': 'brain_region: Thalamus; brain_subregion: N/A; cortical_layer: N/A; hemisphere: left; coordinate_ref: bregma; coordinate_ap: 2.50; coordinate_ml: -1.50; coordinate_dv: 0.00', 'namespace': 'core', 'neurodata_type': 'ElectrodeGroup', 'object_id': 'c9e8c070-688a-4347-9629-539a755a47c7'}, 'groups': {}, 'datasets': {}, 'links': {'device': root/general/extracellular_ephys/ADunit_32/device LinkBuilder {'builder': root/general/devices/ADunit GroupBuilder {'attributes': {'namespace': 'core', 'neurodata_type': 'Device', 'object_id': '6065edb9-03a4-40e1-84f2-1bdc14799ede'}, 'groups': {}, 'datasets': {}, 'links': {}}}}}},\n",
       "       {'source': '.', 'path': '/general/extracellular_ephys/ADunit_32', 7: root/general/extracellular_ephys/ADunit_32 GroupBuilder {'attributes': {'description': 'N/A', 'location': 'brain_region: Thalamus; brain_subregion: N/A; cortical_layer: N/A; hemisphere: left; coordinate_ref: bregma; coordinate_ap: 2.50; coordinate_ml: -1.50; coordinate_dv: 0.00', 'namespace': 'core', 'neurodata_type': 'ElectrodeGroup', 'object_id': 'c9e8c070-688a-4347-9629-539a755a47c7'}, 'groups': {}, 'datasets': {}, 'links': {'device': root/general/extracellular_ephys/ADunit_32/device LinkBuilder {'builder': root/general/devices/ADunit GroupBuilder {'attributes': {'namespace': 'core', 'neurodata_type': 'Device', 'object_id': '6065edb9-03a4-40e1-84f2-1bdc14799ede'}, 'groups': {}, 'datasets': {}, 'links': {}}}}}},\n",
       "       {'source': '.', 'path': '/general/extracellular_ephys/ADunit_32', 8: root/general/extracellular_ephys/ADunit_32 GroupBuilder {'attributes': {'description': 'N/A', 'location': 'brain_region: Thalamus; brain_subregion: N/A; cortical_layer: N/A; hemisphere: left; coordinate_ref: bregma; coordinate_ap: 2.50; coordinate_ml: -1.50; coordinate_dv: 0.00', 'namespace': 'core', 'neurodata_type': 'ElectrodeGroup', 'object_id': 'c9e8c070-688a-4347-9629-539a755a47c7'}, 'groups': {}, 'datasets': {}, 'links': {'device': root/general/extracellular_ephys/ADunit_32/device LinkBuilder {'builder': root/general/devices/ADunit GroupBuilder {'attributes': {'namespace': 'core', 'neurodata_type': 'Device', 'object_id': '6065edb9-03a4-40e1-84f2-1bdc14799ede'}, 'groups': {}, 'datasets': {}, 'links': {}}}}}},\n",
       "       {'source': '.', 'path': '/general/extracellular_ephys/ADunit_32', 9: root/general/extracellular_ephys/ADunit_32 GroupBuilder {'attributes': {'description': 'N/A', 'location': 'brain_region: Thalamus; brain_subregion: N/A; cortical_layer: N/A; hemisphere: left; coordinate_ref: bregma; coordinate_ap: 2.50; coordinate_ml: -1.50; coordinate_dv: 0.00', 'namespace': 'core', 'neurodata_type': 'ElectrodeGroup', 'object_id': 'c9e8c070-688a-4347-9629-539a755a47c7'}, 'groups': {}, 'datasets': {}, 'links': {'device': root/general/extracellular_ephys/ADunit_32/device LinkBuilder {'builder': root/general/devices/ADunit GroupBuilder {'attributes': {'namespace': 'core', 'neurodata_type': 'Device', 'object_id': '6065edb9-03a4-40e1-84f2-1bdc14799ede'}, 'groups': {}, 'datasets': {}, 'links': {}}}}}},\n",
       "       {'source': '.', 'path': '/general/extracellular_ephys/ADunit_32', 10: root/general/extracellular_ephys/ADunit_32 GroupBuilder {'attributes': {'description': 'N/A', 'location': 'brain_region: Thalamus; brain_subregion: N/A; cortical_layer: N/A; hemisphere: left; coordinate_ref: bregma; coordinate_ap: 2.50; coordinate_ml: -1.50; coordinate_dv: 0.00', 'namespace': 'core', 'neurodata_type': 'ElectrodeGroup', 'object_id': 'c9e8c070-688a-4347-9629-539a755a47c7'}, 'groups': {}, 'datasets': {}, 'links': {'device': root/general/extracellular_ephys/ADunit_32/device LinkBuilder {'builder': root/general/devices/ADunit GroupBuilder {'attributes': {'namespace': 'core', 'neurodata_type': 'Device', 'object_id': '6065edb9-03a4-40e1-84f2-1bdc14799ede'}, 'groups': {}, 'datasets': {}, 'links': {}}}}}},\n",
       "       {'source': '.', 'path': '/general/extracellular_ephys/ADunit_32', 11: root/general/extracellular_ephys/ADunit_32 GroupBuilder {'attributes': {'description': 'N/A', 'location': 'brain_region: Thalamus; brain_subregion: N/A; cortical_layer: N/A; hemisphere: left; coordinate_ref: bregma; coordinate_ap: 2.50; coordinate_ml: -1.50; coordinate_dv: 0.00', 'namespace': 'core', 'neurodata_type': 'ElectrodeGroup', 'object_id': 'c9e8c070-688a-4347-9629-539a755a47c7'}, 'groups': {}, 'datasets': {}, 'links': {'device': root/general/extracellular_ephys/ADunit_32/device LinkBuilder {'builder': root/general/devices/ADunit GroupBuilder {'attributes': {'namespace': 'core', 'neurodata_type': 'Device', 'object_id': '6065edb9-03a4-40e1-84f2-1bdc14799ede'}, 'groups': {}, 'datasets': {}, 'links': {}}}}}},\n",
       "       {'source': '.', 'path': '/general/extracellular_ephys/ADunit_32', 12: root/general/extracellular_ephys/ADunit_32 GroupBuilder {'attributes': {'description': 'N/A', 'location': 'brain_region: Thalamus; brain_subregion: N/A; cortical_layer: N/A; hemisphere: left; coordinate_ref: bregma; coordinate_ap: 2.50; coordinate_ml: -1.50; coordinate_dv: 0.00', 'namespace': 'core', 'neurodata_type': 'ElectrodeGroup', 'object_id': 'c9e8c070-688a-4347-9629-539a755a47c7'}, 'groups': {}, 'datasets': {}, 'links': {'device': root/general/extracellular_ephys/ADunit_32/device LinkBuilder {'builder': root/general/devices/ADunit GroupBuilder {'attributes': {'namespace': 'core', 'neurodata_type': 'Device', 'object_id': '6065edb9-03a4-40e1-84f2-1bdc14799ede'}, 'groups': {}, 'datasets': {}, 'links': {}}}}}},\n",
       "       {'source': '.', 'path': '/general/extracellular_ephys/ADunit_32', 13: root/general/extracellular_ephys/ADunit_32 GroupBuilder {'attributes': {'description': 'N/A', 'location': 'brain_region: Thalamus; brain_subregion: N/A; cortical_layer: N/A; hemisphere: left; coordinate_ref: bregma; coordinate_ap: 2.50; coordinate_ml: -1.50; coordinate_dv: 0.00', 'namespace': 'core', 'neurodata_type': 'ElectrodeGroup', 'object_id': 'c9e8c070-688a-4347-9629-539a755a47c7'}, 'groups': {}, 'datasets': {}, 'links': {'device': root/general/extracellular_ephys/ADunit_32/device LinkBuilder {'builder': root/general/devices/ADunit GroupBuilder {'attributes': {'namespace': 'core', 'neurodata_type': 'Device', 'object_id': '6065edb9-03a4-40e1-84f2-1bdc14799ede'}, 'groups': {}, 'datasets': {}, 'links': {}}}}}},\n",
       "       {'source': '.', 'path': '/general/extracellular_ephys/ADunit_32', 14: root/general/extracellular_ephys/ADunit_32 GroupBuilder {'attributes': {'description': 'N/A', 'location': 'brain_region: Thalamus; brain_subregion: N/A; cortical_layer: N/A; hemisphere: left; coordinate_ref: bregma; coordinate_ap: 2.50; coordinate_ml: -1.50; coordinate_dv: 0.00', 'namespace': 'core', 'neurodata_type': 'ElectrodeGroup', 'object_id': 'c9e8c070-688a-4347-9629-539a755a47c7'}, 'groups': {}, 'datasets': {}, 'links': {'device': root/general/extracellular_ephys/ADunit_32/device LinkBuilder {'builder': root/general/devices/ADunit GroupBuilder {'attributes': {'namespace': 'core', 'neurodata_type': 'Device', 'object_id': '6065edb9-03a4-40e1-84f2-1bdc14799ede'}, 'groups': {}, 'datasets': {}, 'links': {}}}}}},\n",
       "       {'source': '.', 'path': '/general/extracellular_ephys/ADunit_32', 15: root/general/extracellular_ephys/ADunit_32 GroupBuilder {'attributes': {'description': 'N/A', 'location': 'brain_region: Thalamus; brain_subregion: N/A; cortical_layer: N/A; hemisphere: left; coordinate_ref: bregma; coordinate_ap: 2.50; coordinate_ml: -1.50; coordinate_dv: 0.00', 'namespace': 'core', 'neurodata_type': 'ElectrodeGroup', 'object_id': 'c9e8c070-688a-4347-9629-539a755a47c7'}, 'groups': {}, 'datasets': {}, 'links': {'device': root/general/extracellular_ephys/ADunit_32/device LinkBuilder {'builder': root/general/devices/ADunit GroupBuilder {'attributes': {'namespace': 'core', 'neurodata_type': 'Device', 'object_id': '6065edb9-03a4-40e1-84f2-1bdc14799ede'}, 'groups': {}, 'datasets': {}, 'links': {}}}}}},\n",
       "       {'source': '.', 'path': '/general/extracellular_ephys/ADunit_32', 16: root/general/extracellular_ephys/ADunit_32 GroupBuilder {'attributes': {'description': 'N/A', 'location': 'brain_region: Thalamus; brain_subregion: N/A; cortical_layer: N/A; hemisphere: left; coordinate_ref: bregma; coordinate_ap: 2.50; coordinate_ml: -1.50; coordinate_dv: 0.00', 'namespace': 'core', 'neurodata_type': 'ElectrodeGroup', 'object_id': 'c9e8c070-688a-4347-9629-539a755a47c7'}, 'groups': {}, 'datasets': {}, 'links': {'device': root/general/extracellular_ephys/ADunit_32/device LinkBuilder {'builder': root/general/devices/ADunit GroupBuilder {'attributes': {'namespace': 'core', 'neurodata_type': 'Device', 'object_id': '6065edb9-03a4-40e1-84f2-1bdc14799ede'}, 'groups': {}, 'datasets': {}, 'links': {}}}}}},\n",
       "       {'source': '.', 'path': '/general/extracellular_ephys/ADunit_32', 17: root/general/extracellular_ephys/ADunit_32 GroupBuilder {'attributes': {'description': 'N/A', 'location': 'brain_region: Thalamus; brain_subregion: N/A; cortical_layer: N/A; hemisphere: left; coordinate_ref: bregma; coordinate_ap: 2.50; coordinate_ml: -1.50; coordinate_dv: 0.00', 'namespace': 'core', 'neurodata_type': 'ElectrodeGroup', 'object_id': 'c9e8c070-688a-4347-9629-539a755a47c7'}, 'groups': {}, 'datasets': {}, 'links': {'device': root/general/extracellular_ephys/ADunit_32/device LinkBuilder {'builder': root/general/devices/ADunit GroupBuilder {'attributes': {'namespace': 'core', 'neurodata_type': 'Device', 'object_id': '6065edb9-03a4-40e1-84f2-1bdc14799ede'}, 'groups': {}, 'datasets': {}, 'links': {}}}}}},\n",
       "       {'source': '.', 'path': '/general/extracellular_ephys/ADunit_32', 18: root/general/extracellular_ephys/ADunit_32 GroupBuilder {'attributes': {'description': 'N/A', 'location': 'brain_region: Thalamus; brain_subregion: N/A; cortical_layer: N/A; hemisphere: left; coordinate_ref: bregma; coordinate_ap: 2.50; coordinate_ml: -1.50; coordinate_dv: 0.00', 'namespace': 'core', 'neurodata_type': 'ElectrodeGroup', 'object_id': 'c9e8c070-688a-4347-9629-539a755a47c7'}, 'groups': {}, 'datasets': {}, 'links': {'device': root/general/extracellular_ephys/ADunit_32/device LinkBuilder {'builder': root/general/devices/ADunit GroupBuilder {'attributes': {'namespace': 'core', 'neurodata_type': 'Device', 'object_id': '6065edb9-03a4-40e1-84f2-1bdc14799ede'}, 'groups': {}, 'datasets': {}, 'links': {}}}}}},\n",
       "       {'source': '.', 'path': '/general/extracellular_ephys/ADunit_32', 19: root/general/extracellular_ephys/ADunit_32 GroupBuilder {'attributes': {'description': 'N/A', 'location': 'brain_region: Thalamus; brain_subregion: N/A; cortical_layer: N/A; hemisphere: left; coordinate_ref: bregma; coordinate_ap: 2.50; coordinate_ml: -1.50; coordinate_dv: 0.00', 'namespace': 'core', 'neurodata_type': 'ElectrodeGroup', 'object_id': 'c9e8c070-688a-4347-9629-539a755a47c7'}, 'groups': {}, 'datasets': {}, 'links': {'device': root/general/extracellular_ephys/ADunit_32/device LinkBuilder {'builder': root/general/devices/ADunit GroupBuilder {'attributes': {'namespace': 'core', 'neurodata_type': 'Device', 'object_id': '6065edb9-03a4-40e1-84f2-1bdc14799ede'}, 'groups': {}, 'datasets': {}, 'links': {}}}}}},\n",
       "       {'source': '.', 'path': '/general/extracellular_ephys/ADunit_32', 20: root/general/extracellular_ephys/ADunit_32 GroupBuilder {'attributes': {'description': 'N/A', 'location': 'brain_region: Thalamus; brain_subregion: N/A; cortical_layer: N/A; hemisphere: left; coordinate_ref: bregma; coordinate_ap: 2.50; coordinate_ml: -1.50; coordinate_dv: 0.00', 'namespace': 'core', 'neurodata_type': 'ElectrodeGroup', 'object_id': 'c9e8c070-688a-4347-9629-539a755a47c7'}, 'groups': {}, 'datasets': {}, 'links': {'device': root/general/extracellular_ephys/ADunit_32/device LinkBuilder {'builder': root/general/devices/ADunit GroupBuilder {'attributes': {'namespace': 'core', 'neurodata_type': 'Device', 'object_id': '6065edb9-03a4-40e1-84f2-1bdc14799ede'}, 'groups': {}, 'datasets': {}, 'links': {}}}}}},\n",
       "       {'source': '.', 'path': '/general/extracellular_ephys/ADunit_32', 21: root/general/extracellular_ephys/ADunit_32 GroupBuilder {'attributes': {'description': 'N/A', 'location': 'brain_region: Thalamus; brain_subregion: N/A; cortical_layer: N/A; hemisphere: left; coordinate_ref: bregma; coordinate_ap: 2.50; coordinate_ml: -1.50; coordinate_dv: 0.00', 'namespace': 'core', 'neurodata_type': 'ElectrodeGroup', 'object_id': 'c9e8c070-688a-4347-9629-539a755a47c7'}, 'groups': {}, 'datasets': {}, 'links': {'device': root/general/extracellular_ephys/ADunit_32/device LinkBuilder {'builder': root/general/devices/ADunit GroupBuilder {'attributes': {'namespace': 'core', 'neurodata_type': 'Device', 'object_id': '6065edb9-03a4-40e1-84f2-1bdc14799ede'}, 'groups': {}, 'datasets': {}, 'links': {}}}}}},\n",
       "       {'source': '.', 'path': '/general/extracellular_ephys/ADunit_32', 22: root/general/extracellular_ephys/ADunit_32 GroupBuilder {'attributes': {'description': 'N/A', 'location': 'brain_region: Thalamus; brain_subregion: N/A; cortical_layer: N/A; hemisphere: left; coordinate_ref: bregma; coordinate_ap: 2.50; coordinate_ml: -1.50; coordinate_dv: 0.00', 'namespace': 'core', 'neurodata_type': 'ElectrodeGroup', 'object_id': 'c9e8c070-688a-4347-9629-539a755a47c7'}, 'groups': {}, 'datasets': {}, 'links': {'device': root/general/extracellular_ephys/ADunit_32/device LinkBuilder {'builder': root/general/devices/ADunit GroupBuilder {'attributes': {'namespace': 'core', 'neurodata_type': 'Device', 'object_id': '6065edb9-03a4-40e1-84f2-1bdc14799ede'}, 'groups': {}, 'datasets': {}, 'links': {}}}}}},\n",
       "       {'source': '.', 'path': '/general/extracellular_ephys/ADunit_32', 23: root/general/extracellular_ephys/ADunit_32 GroupBuilder {'attributes': {'description': 'N/A', 'location': 'brain_region: Thalamus; brain_subregion: N/A; cortical_layer: N/A; hemisphere: left; coordinate_ref: bregma; coordinate_ap: 2.50; coordinate_ml: -1.50; coordinate_dv: 0.00', 'namespace': 'core', 'neurodata_type': 'ElectrodeGroup', 'object_id': 'c9e8c070-688a-4347-9629-539a755a47c7'}, 'groups': {}, 'datasets': {}, 'links': {'device': root/general/extracellular_ephys/ADunit_32/device LinkBuilder {'builder': root/general/devices/ADunit GroupBuilder {'attributes': {'namespace': 'core', 'neurodata_type': 'Device', 'object_id': '6065edb9-03a4-40e1-84f2-1bdc14799ede'}, 'groups': {}, 'datasets': {}, 'links': {}}}}}},\n",
       "       {'source': '.', 'path': '/general/extracellular_ephys/ADunit_32', 24: root/general/extracellular_ephys/ADunit_32 GroupBuilder {'attributes': {'description': 'N/A', 'location': 'brain_region: Thalamus; brain_subregion: N/A; cortical_layer: N/A; hemisphere: left; coordinate_ref: bregma; coordinate_ap: 2.50; coordinate_ml: -1.50; coordinate_dv: 0.00', 'namespace': 'core', 'neurodata_type': 'ElectrodeGroup', 'object_id': 'c9e8c070-688a-4347-9629-539a755a47c7'}, 'groups': {}, 'datasets': {}, 'links': {'device': root/general/extracellular_ephys/ADunit_32/device LinkBuilder {'builder': root/general/devices/ADunit GroupBuilder {'attributes': {'namespace': 'core', 'neurodata_type': 'Device', 'object_id': '6065edb9-03a4-40e1-84f2-1bdc14799ede'}, 'groups': {}, 'datasets': {}, 'links': {}}}}}},\n",
       "       {'source': '.', 'path': '/general/extracellular_ephys/ADunit_32', 25: root/general/extracellular_ephys/ADunit_32 GroupBuilder {'attributes': {'description': 'N/A', 'location': 'brain_region: Thalamus; brain_subregion: N/A; cortical_layer: N/A; hemisphere: left; coordinate_ref: bregma; coordinate_ap: 2.50; coordinate_ml: -1.50; coordinate_dv: 0.00', 'namespace': 'core', 'neurodata_type': 'ElectrodeGroup', 'object_id': 'c9e8c070-688a-4347-9629-539a755a47c7'}, 'groups': {}, 'datasets': {}, 'links': {'device': root/general/extracellular_ephys/ADunit_32/device LinkBuilder {'builder': root/general/devices/ADunit GroupBuilder {'attributes': {'namespace': 'core', 'neurodata_type': 'Device', 'object_id': '6065edb9-03a4-40e1-84f2-1bdc14799ede'}, 'groups': {}, 'datasets': {}, 'links': {}}}}}},\n",
       "       {'source': '.', 'path': '/general/extracellular_ephys/ADunit_32', 26: root/general/extracellular_ephys/ADunit_32 GroupBuilder {'attributes': {'description': 'N/A', 'location': 'brain_region: Thalamus; brain_subregion: N/A; cortical_layer: N/A; hemisphere: left; coordinate_ref: bregma; coordinate_ap: 2.50; coordinate_ml: -1.50; coordinate_dv: 0.00', 'namespace': 'core', 'neurodata_type': 'ElectrodeGroup', 'object_id': 'c9e8c070-688a-4347-9629-539a755a47c7'}, 'groups': {}, 'datasets': {}, 'links': {'device': root/general/extracellular_ephys/ADunit_32/device LinkBuilder {'builder': root/general/devices/ADunit GroupBuilder {'attributes': {'namespace': 'core', 'neurodata_type': 'Device', 'object_id': '6065edb9-03a4-40e1-84f2-1bdc14799ede'}, 'groups': {}, 'datasets': {}, 'links': {}}}}}},\n",
       "       {'source': '.', 'path': '/general/extracellular_ephys/ADunit_32', 27: root/general/extracellular_ephys/ADunit_32 GroupBuilder {'attributes': {'description': 'N/A', 'location': 'brain_region: Thalamus; brain_subregion: N/A; cortical_layer: N/A; hemisphere: left; coordinate_ref: bregma; coordinate_ap: 2.50; coordinate_ml: -1.50; coordinate_dv: 0.00', 'namespace': 'core', 'neurodata_type': 'ElectrodeGroup', 'object_id': 'c9e8c070-688a-4347-9629-539a755a47c7'}, 'groups': {}, 'datasets': {}, 'links': {'device': root/general/extracellular_ephys/ADunit_32/device LinkBuilder {'builder': root/general/devices/ADunit GroupBuilder {'attributes': {'namespace': 'core', 'neurodata_type': 'Device', 'object_id': '6065edb9-03a4-40e1-84f2-1bdc14799ede'}, 'groups': {}, 'datasets': {}, 'links': {}}}}}},\n",
       "       {'source': '.', 'path': '/general/extracellular_ephys/ADunit_32', 28: root/general/extracellular_ephys/ADunit_32 GroupBuilder {'attributes': {'description': 'N/A', 'location': 'brain_region: Thalamus; brain_subregion: N/A; cortical_layer: N/A; hemisphere: left; coordinate_ref: bregma; coordinate_ap: 2.50; coordinate_ml: -1.50; coordinate_dv: 0.00', 'namespace': 'core', 'neurodata_type': 'ElectrodeGroup', 'object_id': 'c9e8c070-688a-4347-9629-539a755a47c7'}, 'groups': {}, 'datasets': {}, 'links': {'device': root/general/extracellular_ephys/ADunit_32/device LinkBuilder {'builder': root/general/devices/ADunit GroupBuilder {'attributes': {'namespace': 'core', 'neurodata_type': 'Device', 'object_id': '6065edb9-03a4-40e1-84f2-1bdc14799ede'}, 'groups': {}, 'datasets': {}, 'links': {}}}}}},\n",
       "       {'source': '.', 'path': '/general/extracellular_ephys/ADunit_32', 29: root/general/extracellular_ephys/ADunit_32 GroupBuilder {'attributes': {'description': 'N/A', 'location': 'brain_region: Thalamus; brain_subregion: N/A; cortical_layer: N/A; hemisphere: left; coordinate_ref: bregma; coordinate_ap: 2.50; coordinate_ml: -1.50; coordinate_dv: 0.00', 'namespace': 'core', 'neurodata_type': 'ElectrodeGroup', 'object_id': 'c9e8c070-688a-4347-9629-539a755a47c7'}, 'groups': {}, 'datasets': {}, 'links': {'device': root/general/extracellular_ephys/ADunit_32/device LinkBuilder {'builder': root/general/devices/ADunit GroupBuilder {'attributes': {'namespace': 'core', 'neurodata_type': 'Device', 'object_id': '6065edb9-03a4-40e1-84f2-1bdc14799ede'}, 'groups': {}, 'datasets': {}, 'links': {}}}}}},\n",
       "       {'source': '.', 'path': '/general/extracellular_ephys/ADunit_32', 30: root/general/extracellular_ephys/ADunit_32 GroupBuilder {'attributes': {'description': 'N/A', 'location': 'brain_region: Thalamus; brain_subregion: N/A; cortical_layer: N/A; hemisphere: left; coordinate_ref: bregma; coordinate_ap: 2.50; coordinate_ml: -1.50; coordinate_dv: 0.00', 'namespace': 'core', 'neurodata_type': 'ElectrodeGroup', 'object_id': 'c9e8c070-688a-4347-9629-539a755a47c7'}, 'groups': {}, 'datasets': {}, 'links': {'device': root/general/extracellular_ephys/ADunit_32/device LinkBuilder {'builder': root/general/devices/ADunit GroupBuilder {'attributes': {'namespace': 'core', 'neurodata_type': 'Device', 'object_id': '6065edb9-03a4-40e1-84f2-1bdc14799ede'}, 'groups': {}, 'datasets': {}, 'links': {}}}}}},\n",
       "       {'source': '.', 'path': '/general/extracellular_ephys/ADunit_32', 31: root/general/extracellular_ephys/ADunit_32 GroupBuilder {'attributes': {'description': 'N/A', 'location': 'brain_region: Thalamus; brain_subregion: N/A; cortical_layer: N/A; hemisphere: left; coordinate_ref: bregma; coordinate_ap: 2.50; coordinate_ml: -1.50; coordinate_dv: 0.00', 'namespace': 'core', 'neurodata_type': 'ElectrodeGroup', 'object_id': 'c9e8c070-688a-4347-9629-539a755a47c7'}, 'groups': {}, 'datasets': {}, 'links': {'device': root/general/extracellular_ephys/ADunit_32/device LinkBuilder {'builder': root/general/devices/ADunit GroupBuilder {'attributes': {'namespace': 'core', 'neurodata_type': 'Device', 'object_id': '6065edb9-03a4-40e1-84f2-1bdc14799ede'}, 'groups': {}, 'datasets': {}, 'links': {}}}}}}],\n",
       "      dtype=object)"
      ]
     },
     "execution_count": 8,
     "metadata": {},
     "output_type": "execute_result"
    }
   ],
   "source": [
    "infile.electrodes.group.data"
   ]
  },
  {
   "cell_type": "code",
   "execution_count": null,
   "id": "67271842",
   "metadata": {},
   "outputs": [],
   "source": []
  }
 ],
 "metadata": {
  "kernelspec": {
   "display_name": "Python 3 (ipykernel)",
   "language": "python",
   "name": "python3"
  },
  "language_info": {
   "codemirror_mode": {
    "name": "ipython",
    "version": 3
   },
   "file_extension": ".py",
   "mimetype": "text/x-python",
   "name": "python",
   "nbconvert_exporter": "python",
   "pygments_lexer": "ipython3",
   "version": "3.10.12"
  }
 },
 "nbformat": 4,
 "nbformat_minor": 5
}
